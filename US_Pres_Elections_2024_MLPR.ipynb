{
  "nbformat": 4,
  "nbformat_minor": 0,
  "metadata": {
    "colab": {
      "name": "US Pres Elections 2024 MLPR.ipynb",
      "provenance": [],
      "collapsed_sections": []
    },
    "kernelspec": {
      "display_name": "Python 3",
      "name": "python3"
    }
  },
  "cells": [
    {
      "cell_type": "markdown",
      "metadata": {
        "id": "ByFXFeH8Jd3y"
      },
      "source": [
        "This program is a continuation of the file US Presidential Elections 2020"
      ]
    },
    {
      "cell_type": "markdown",
      "metadata": {
        "id": "jjIrtIt0Jscw"
      },
      "source": [
        "Import libraries"
      ]
    },
    {
      "cell_type": "code",
      "metadata": {
        "id": "Zkkn98NOJRLk"
      },
      "source": [
        "import pandas as pd\n",
        "import numpy as np\n",
        "import matplotlib.pyplot as plt\n",
        "import seaborn as sns"
      ],
      "execution_count": 339,
      "outputs": []
    },
    {
      "cell_type": "markdown",
      "metadata": {
        "id": "nPemcvlDJ1DT"
      },
      "source": [
        "Load and read file.\n",
        "\n",
        "File was taken from the following sites and apended:-\n",
        "present taken from:- https://www.kaggle.com/unanimad/us-election-2020?select=president_county_candidate.csv\n",
        "past taken from:- https://electionlab.mit.edu/data"
      ]
    },
    {
      "cell_type": "code",
      "metadata": {
        "colab": {
          "base_uri": "https://localhost:8080/",
          "height": 399
        },
        "id": "WUDepZNeKGH0",
        "outputId": "aef6f7e1-57ea-4bb0-e925-05f66f00f05d"
      },
      "source": [
        "train=pd.read_csv(\"https://raw.githubusercontent.com/TracyRenee61/US-presidential-elections-2020/main/series.csv\")\n",
        "train"
      ],
      "execution_count": 340,
      "outputs": [
        {
          "output_type": "execute_result",
          "data": {
            "text/html": [
              "<div>\n",
              "<style scoped>\n",
              "    .dataframe tbody tr th:only-of-type {\n",
              "        vertical-align: middle;\n",
              "    }\n",
              "\n",
              "    .dataframe tbody tr th {\n",
              "        vertical-align: top;\n",
              "    }\n",
              "\n",
              "    .dataframe thead th {\n",
              "        text-align: right;\n",
              "    }\n",
              "</style>\n",
              "<table border=\"1\" class=\"dataframe\">\n",
              "  <thead>\n",
              "    <tr style=\"text-align: right;\">\n",
              "      <th></th>\n",
              "      <th>state</th>\n",
              "      <th>candidate</th>\n",
              "      <th>party</th>\n",
              "      <th>year</th>\n",
              "      <th>candidatevotes</th>\n",
              "    </tr>\n",
              "  </thead>\n",
              "  <tbody>\n",
              "    <tr>\n",
              "      <th>0</th>\n",
              "      <td>Alabama</td>\n",
              "      <td>Carter, Jimmy</td>\n",
              "      <td>1.0</td>\n",
              "      <td>1976</td>\n",
              "      <td>659170</td>\n",
              "    </tr>\n",
              "    <tr>\n",
              "      <th>1</th>\n",
              "      <td>Alabama</td>\n",
              "      <td>Ford, Gerald</td>\n",
              "      <td>2.0</td>\n",
              "      <td>1976</td>\n",
              "      <td>504070</td>\n",
              "    </tr>\n",
              "    <tr>\n",
              "      <th>2</th>\n",
              "      <td>Alabama</td>\n",
              "      <td>Maddox, Lester</td>\n",
              "      <td>3.0</td>\n",
              "      <td>1976</td>\n",
              "      <td>9198</td>\n",
              "    </tr>\n",
              "    <tr>\n",
              "      <th>3</th>\n",
              "      <td>Alabama</td>\n",
              "      <td>Bubar, Benjamin \"\"Ben\"\"</td>\n",
              "      <td>3.0</td>\n",
              "      <td>1976</td>\n",
              "      <td>6669</td>\n",
              "    </tr>\n",
              "    <tr>\n",
              "      <th>4</th>\n",
              "      <td>Alabama</td>\n",
              "      <td>Hall, Gus</td>\n",
              "      <td>3.0</td>\n",
              "      <td>1976</td>\n",
              "      <td>1954</td>\n",
              "    </tr>\n",
              "    <tr>\n",
              "      <th>...</th>\n",
              "      <td>...</td>\n",
              "      <td>...</td>\n",
              "      <td>...</td>\n",
              "      <td>...</td>\n",
              "      <td>...</td>\n",
              "    </tr>\n",
              "    <tr>\n",
              "      <th>4086</th>\n",
              "      <td>Wyoming</td>\n",
              "      <td>Write-ins</td>\n",
              "      <td>3.0</td>\n",
              "      <td>2020</td>\n",
              "      <td>1739</td>\n",
              "    </tr>\n",
              "    <tr>\n",
              "      <th>4087</th>\n",
              "      <td>Wyoming</td>\n",
              "      <td>Brock Pierce</td>\n",
              "      <td>3.0</td>\n",
              "      <td>2020</td>\n",
              "      <td>2208</td>\n",
              "    </tr>\n",
              "    <tr>\n",
              "      <th>4088</th>\n",
              "      <td>Wyoming</td>\n",
              "      <td>Donald Trump</td>\n",
              "      <td>2.0</td>\n",
              "      <td>2020</td>\n",
              "      <td>193559</td>\n",
              "    </tr>\n",
              "    <tr>\n",
              "      <th>4089</th>\n",
              "      <td>Wyoming</td>\n",
              "      <td>Jo Jorgensen</td>\n",
              "      <td>3.0</td>\n",
              "      <td>2020</td>\n",
              "      <td>5768</td>\n",
              "    </tr>\n",
              "    <tr>\n",
              "      <th>4090</th>\n",
              "      <td>Wyoming</td>\n",
              "      <td>Joe Biden</td>\n",
              "      <td>1.0</td>\n",
              "      <td>2020</td>\n",
              "      <td>73491</td>\n",
              "    </tr>\n",
              "  </tbody>\n",
              "</table>\n",
              "<p>4091 rows × 5 columns</p>\n",
              "</div>"
            ],
            "text/plain": [
              "        state                candidate  party  year  candidatevotes\n",
              "0     Alabama            Carter, Jimmy    1.0  1976          659170\n",
              "1     Alabama             Ford, Gerald    2.0  1976          504070\n",
              "2     Alabama           Maddox, Lester    3.0  1976            9198\n",
              "3     Alabama  Bubar, Benjamin \"\"Ben\"\"    3.0  1976            6669\n",
              "4     Alabama                Hall, Gus    3.0  1976            1954\n",
              "...       ...                      ...    ...   ...             ...\n",
              "4086  Wyoming                Write-ins    3.0  2020            1739\n",
              "4087  Wyoming             Brock Pierce    3.0  2020            2208\n",
              "4088  Wyoming             Donald Trump    2.0  2020          193559\n",
              "4089  Wyoming             Jo Jorgensen    3.0  2020            5768\n",
              "4090  Wyoming                Joe Biden    1.0  2020           73491\n",
              "\n",
              "[4091 rows x 5 columns]"
            ]
          },
          "metadata": {
            "tags": []
          },
          "execution_count": 340
        }
      ]
    },
    {
      "cell_type": "code",
      "metadata": {
        "colab": {
          "base_uri": "https://localhost:8080/"
        },
        "id": "KSBlUpG7PY7E",
        "outputId": "49b84963-cbed-4d6d-9507-f6ec53698de3"
      },
      "source": [
        "train.info()"
      ],
      "execution_count": 341,
      "outputs": [
        {
          "output_type": "stream",
          "text": [
            "<class 'pandas.core.frame.DataFrame'>\n",
            "RangeIndex: 4091 entries, 0 to 4090\n",
            "Data columns (total 5 columns):\n",
            " #   Column          Non-Null Count  Dtype  \n",
            "---  ------          --------------  -----  \n",
            " 0   state           4091 non-null   object \n",
            " 1   candidate       4091 non-null   object \n",
            " 2   party           4091 non-null   float64\n",
            " 3   year            4091 non-null   int64  \n",
            " 4   candidatevotes  4091 non-null   int64  \n",
            "dtypes: float64(1), int64(2), object(2)\n",
            "memory usage: 159.9+ KB\n"
          ],
          "name": "stdout"
        }
      ]
    },
    {
      "cell_type": "markdown",
      "metadata": {
        "id": "GSVGnfiWKsVB"
      },
      "source": [
        "Check for null values"
      ]
    },
    {
      "cell_type": "code",
      "metadata": {
        "colab": {
          "base_uri": "https://localhost:8080/"
        },
        "id": "FURj2D4zKxwk",
        "outputId": "16a85b44-58fb-4e2c-ff5e-6c91172b212e"
      },
      "source": [
        "train.isnull().sum()"
      ],
      "execution_count": 342,
      "outputs": [
        {
          "output_type": "execute_result",
          "data": {
            "text/plain": [
              "state             0\n",
              "candidate         0\n",
              "party             0\n",
              "year              0\n",
              "candidatevotes    0\n",
              "dtype: int64"
            ]
          },
          "metadata": {
            "tags": []
          },
          "execution_count": 342
        }
      ]
    },
    {
      "cell_type": "markdown",
      "metadata": {
        "id": "1tn0FOOROVnc"
      },
      "source": [
        "Analyse yearly votes"
      ]
    },
    {
      "cell_type": "code",
      "metadata": {
        "colab": {
          "base_uri": "https://localhost:8080/",
          "height": 399
        },
        "id": "FYWePHhzOYeh",
        "outputId": "a190180c-90b6-4063-be2d-0bb9f7dc3647"
      },
      "source": [
        "year = 1976\n",
        "\n",
        "include = train[train['year'] == year]\n",
        "exclude = train[train['year'] != year]\n",
        "include"
      ],
      "execution_count": 343,
      "outputs": [
        {
          "output_type": "execute_result",
          "data": {
            "text/html": [
              "<div>\n",
              "<style scoped>\n",
              "    .dataframe tbody tr th:only-of-type {\n",
              "        vertical-align: middle;\n",
              "    }\n",
              "\n",
              "    .dataframe tbody tr th {\n",
              "        vertical-align: top;\n",
              "    }\n",
              "\n",
              "    .dataframe thead th {\n",
              "        text-align: right;\n",
              "    }\n",
              "</style>\n",
              "<table border=\"1\" class=\"dataframe\">\n",
              "  <thead>\n",
              "    <tr style=\"text-align: right;\">\n",
              "      <th></th>\n",
              "      <th>state</th>\n",
              "      <th>candidate</th>\n",
              "      <th>party</th>\n",
              "      <th>year</th>\n",
              "      <th>candidatevotes</th>\n",
              "    </tr>\n",
              "  </thead>\n",
              "  <tbody>\n",
              "    <tr>\n",
              "      <th>0</th>\n",
              "      <td>Alabama</td>\n",
              "      <td>Carter, Jimmy</td>\n",
              "      <td>1.0</td>\n",
              "      <td>1976</td>\n",
              "      <td>659170</td>\n",
              "    </tr>\n",
              "    <tr>\n",
              "      <th>1</th>\n",
              "      <td>Alabama</td>\n",
              "      <td>Ford, Gerald</td>\n",
              "      <td>2.0</td>\n",
              "      <td>1976</td>\n",
              "      <td>504070</td>\n",
              "    </tr>\n",
              "    <tr>\n",
              "      <th>2</th>\n",
              "      <td>Alabama</td>\n",
              "      <td>Maddox, Lester</td>\n",
              "      <td>3.0</td>\n",
              "      <td>1976</td>\n",
              "      <td>9198</td>\n",
              "    </tr>\n",
              "    <tr>\n",
              "      <th>3</th>\n",
              "      <td>Alabama</td>\n",
              "      <td>Bubar, Benjamin \"\"Ben\"\"</td>\n",
              "      <td>3.0</td>\n",
              "      <td>1976</td>\n",
              "      <td>6669</td>\n",
              "    </tr>\n",
              "    <tr>\n",
              "      <th>4</th>\n",
              "      <td>Alabama</td>\n",
              "      <td>Hall, Gus</td>\n",
              "      <td>3.0</td>\n",
              "      <td>1976</td>\n",
              "      <td>1954</td>\n",
              "    </tr>\n",
              "    <tr>\n",
              "      <th>...</th>\n",
              "      <td>...</td>\n",
              "      <td>...</td>\n",
              "      <td>...</td>\n",
              "      <td>...</td>\n",
              "      <td>...</td>\n",
              "    </tr>\n",
              "    <tr>\n",
              "      <th>327</th>\n",
              "      <td>Wisconsin</td>\n",
              "      <td>Camejo, Peter</td>\n",
              "      <td>3.0</td>\n",
              "      <td>1976</td>\n",
              "      <td>1691</td>\n",
              "    </tr>\n",
              "    <tr>\n",
              "      <th>328</th>\n",
              "      <td>Wisconsin</td>\n",
              "      <td>Julius \"\"Jules\"\", Levin</td>\n",
              "      <td>3.0</td>\n",
              "      <td>1976</td>\n",
              "      <td>389</td>\n",
              "    </tr>\n",
              "    <tr>\n",
              "      <th>329</th>\n",
              "      <td>Wyoming</td>\n",
              "      <td>Ford, Gerald</td>\n",
              "      <td>2.0</td>\n",
              "      <td>1976</td>\n",
              "      <td>92717</td>\n",
              "    </tr>\n",
              "    <tr>\n",
              "      <th>330</th>\n",
              "      <td>Wyoming</td>\n",
              "      <td>Carter, Jimmy</td>\n",
              "      <td>1.0</td>\n",
              "      <td>1976</td>\n",
              "      <td>62239</td>\n",
              "    </tr>\n",
              "    <tr>\n",
              "      <th>331</th>\n",
              "      <td>Wyoming</td>\n",
              "      <td>Blank Vote</td>\n",
              "      <td>3.0</td>\n",
              "      <td>1976</td>\n",
              "      <td>1387</td>\n",
              "    </tr>\n",
              "  </tbody>\n",
              "</table>\n",
              "<p>332 rows × 5 columns</p>\n",
              "</div>"
            ],
            "text/plain": [
              "         state                candidate  party  year  candidatevotes\n",
              "0      Alabama            Carter, Jimmy    1.0  1976          659170\n",
              "1      Alabama             Ford, Gerald    2.0  1976          504070\n",
              "2      Alabama           Maddox, Lester    3.0  1976            9198\n",
              "3      Alabama  Bubar, Benjamin \"\"Ben\"\"    3.0  1976            6669\n",
              "4      Alabama                Hall, Gus    3.0  1976            1954\n",
              "..         ...                      ...    ...   ...             ...\n",
              "327  Wisconsin            Camejo, Peter    3.0  1976            1691\n",
              "328  Wisconsin  Julius \"\"Jules\"\", Levin    3.0  1976             389\n",
              "329    Wyoming             Ford, Gerald    2.0  1976           92717\n",
              "330    Wyoming            Carter, Jimmy    1.0  1976           62239\n",
              "331    Wyoming               Blank Vote    3.0  1976            1387\n",
              "\n",
              "[332 rows x 5 columns]"
            ]
          },
          "metadata": {
            "tags": []
          },
          "execution_count": 343
        }
      ]
    },
    {
      "cell_type": "code",
      "metadata": {
        "colab": {
          "base_uri": "https://localhost:8080/",
          "height": 296
        },
        "id": "MTC4iSOwSjq0",
        "outputId": "5515af8b-8de5-470c-954c-0eac83e33b01"
      },
      "source": [
        "include.groupby('party')['candidatevotes'].sum().plot.bar(ylim=0)\n",
        "plt.show()"
      ],
      "execution_count": 344,
      "outputs": [
        {
          "output_type": "display_data",
          "data": {
            "image/png": "[encoded data removed]",
            "text/plain": [
              "<Figure size 432x288 with 1 Axes>"
            ]
          },
          "metadata": {
            "tags": [],
            "needs_background": "light"
          }
        }
      ]
    },
    {
      "cell_type": "code",
      "metadata": {
        "colab": {
          "base_uri": "https://localhost:8080/"
        },
        "id": "Zu7Le34YOx-o",
        "outputId": "29955624-6c53-4137-90fe-1e86a6c4db68"
      },
      "source": [
        "winner = include.groupby('party')['candidatevotes'].sum()\n",
        "winner"
      ],
      "execution_count": 345,
      "outputs": [
        {
          "output_type": "execute_result",
          "data": {
            "text/plain": [
              "party\n",
              "1.0    40680446\n",
              "2.0    38870893\n",
              "3.0     2050005\n",
              "Name: candidatevotes, dtype: int64"
            ]
          },
          "metadata": {
            "tags": []
          },
          "execution_count": 345
        }
      ]
    },
    {
      "cell_type": "code",
      "metadata": {
        "colab": {
          "base_uri": "https://localhost:8080/",
          "height": 399
        },
        "id": "TWszB19JTmY4",
        "outputId": "554840fe-0fb6-4bc5-d414-7cffe6b63ffc"
      },
      "source": [
        "year = 1980\n",
        "\n",
        "include = train[train['year'] == year]\n",
        "exclude = train[train['year'] != year]\n",
        "include"
      ],
      "execution_count": 346,
      "outputs": [
        {
          "output_type": "execute_result",
          "data": {
            "text/html": [
              "<div>\n",
              "<style scoped>\n",
              "    .dataframe tbody tr th:only-of-type {\n",
              "        vertical-align: middle;\n",
              "    }\n",
              "\n",
              "    .dataframe tbody tr th {\n",
              "        vertical-align: top;\n",
              "    }\n",
              "\n",
              "    .dataframe thead th {\n",
              "        text-align: right;\n",
              "    }\n",
              "</style>\n",
              "<table border=\"1\" class=\"dataframe\">\n",
              "  <thead>\n",
              "    <tr style=\"text-align: right;\">\n",
              "      <th></th>\n",
              "      <th>state</th>\n",
              "      <th>candidate</th>\n",
              "      <th>party</th>\n",
              "      <th>year</th>\n",
              "      <th>candidatevotes</th>\n",
              "    </tr>\n",
              "  </thead>\n",
              "  <tbody>\n",
              "    <tr>\n",
              "      <th>332</th>\n",
              "      <td>Alabama</td>\n",
              "      <td>Reagan, Ronald</td>\n",
              "      <td>2.0</td>\n",
              "      <td>1980</td>\n",
              "      <td>654192</td>\n",
              "    </tr>\n",
              "    <tr>\n",
              "      <th>333</th>\n",
              "      <td>Alabama</td>\n",
              "      <td>Carter, Jimmy</td>\n",
              "      <td>1.0</td>\n",
              "      <td>1980</td>\n",
              "      <td>636730</td>\n",
              "    </tr>\n",
              "    <tr>\n",
              "      <th>334</th>\n",
              "      <td>Alabama</td>\n",
              "      <td>Anderson, John B.</td>\n",
              "      <td>3.0</td>\n",
              "      <td>1980</td>\n",
              "      <td>16481</td>\n",
              "    </tr>\n",
              "    <tr>\n",
              "      <th>335</th>\n",
              "      <td>Alabama</td>\n",
              "      <td>Rarick, John</td>\n",
              "      <td>3.0</td>\n",
              "      <td>1980</td>\n",
              "      <td>15010</td>\n",
              "    </tr>\n",
              "    <tr>\n",
              "      <th>336</th>\n",
              "      <td>Alabama</td>\n",
              "      <td>Clark, Edward \"\"Ed\"\"</td>\n",
              "      <td>3.0</td>\n",
              "      <td>1980</td>\n",
              "      <td>13318</td>\n",
              "    </tr>\n",
              "    <tr>\n",
              "      <th>...</th>\n",
              "      <td>...</td>\n",
              "      <td>...</td>\n",
              "      <td>...</td>\n",
              "      <td>...</td>\n",
              "      <td>...</td>\n",
              "    </tr>\n",
              "    <tr>\n",
              "      <th>691</th>\n",
              "      <td>Wisconsin</td>\n",
              "      <td>Deberry, Clifton</td>\n",
              "      <td>3.0</td>\n",
              "      <td>1980</td>\n",
              "      <td>383</td>\n",
              "    </tr>\n",
              "    <tr>\n",
              "      <th>692</th>\n",
              "      <td>Wyoming</td>\n",
              "      <td>Reagan, Ronald</td>\n",
              "      <td>2.0</td>\n",
              "      <td>1980</td>\n",
              "      <td>110700</td>\n",
              "    </tr>\n",
              "    <tr>\n",
              "      <th>693</th>\n",
              "      <td>Wyoming</td>\n",
              "      <td>Carter, Jimmy</td>\n",
              "      <td>1.0</td>\n",
              "      <td>1980</td>\n",
              "      <td>49427</td>\n",
              "    </tr>\n",
              "    <tr>\n",
              "      <th>694</th>\n",
              "      <td>Wyoming</td>\n",
              "      <td>Anderson, John B.</td>\n",
              "      <td>3.0</td>\n",
              "      <td>1980</td>\n",
              "      <td>12072</td>\n",
              "    </tr>\n",
              "    <tr>\n",
              "      <th>695</th>\n",
              "      <td>Wyoming</td>\n",
              "      <td>Clark, Edward \"\"Ed\"\"</td>\n",
              "      <td>3.0</td>\n",
              "      <td>1980</td>\n",
              "      <td>4514</td>\n",
              "    </tr>\n",
              "  </tbody>\n",
              "</table>\n",
              "<p>364 rows × 5 columns</p>\n",
              "</div>"
            ],
            "text/plain": [
              "         state             candidate  party  year  candidatevotes\n",
              "332    Alabama        Reagan, Ronald    2.0  1980          654192\n",
              "333    Alabama         Carter, Jimmy    1.0  1980          636730\n",
              "334    Alabama     Anderson, John B.    3.0  1980           16481\n",
              "335    Alabama          Rarick, John    3.0  1980           15010\n",
              "336    Alabama  Clark, Edward \"\"Ed\"\"    3.0  1980           13318\n",
              "..         ...                   ...    ...   ...             ...\n",
              "691  Wisconsin      Deberry, Clifton    3.0  1980             383\n",
              "692    Wyoming        Reagan, Ronald    2.0  1980          110700\n",
              "693    Wyoming         Carter, Jimmy    1.0  1980           49427\n",
              "694    Wyoming     Anderson, John B.    3.0  1980           12072\n",
              "695    Wyoming  Clark, Edward \"\"Ed\"\"    3.0  1980            4514\n",
              "\n",
              "[364 rows x 5 columns]"
            ]
          },
          "metadata": {
            "tags": []
          },
          "execution_count": 346
        }
      ]
    },
    {
      "cell_type": "code",
      "metadata": {
        "colab": {
          "base_uri": "https://localhost:8080/",
          "height": 296
        },
        "id": "OErFiqsiTscs",
        "outputId": "60f4fd91-8b14-4aab-c8e8-b62bd06ec68e"
      },
      "source": [
        "include.groupby('party')['candidatevotes'].sum().plot.bar(ylim=0)\n",
        "plt.show()"
      ],
      "execution_count": 347,
      "outputs": [
        {
          "output_type": "display_data",
          "data": {
            "image/png": "[encoded data removed]",
            "text/plain": [
              "<Figure size 432x288 with 1 Axes>"
            ]
          },
          "metadata": {
            "tags": [],
            "needs_background": "light"
          }
        }
      ]
    },
    {
      "cell_type": "code",
      "metadata": {
        "colab": {
          "base_uri": "https://localhost:8080/"
        },
        "id": "eYGbVJxFTzqi",
        "outputId": "941af6d7-2644-4682-9180-5ec9feae1cc7"
      },
      "source": [
        "winner = include.groupby('party')['candidatevotes'].sum()\n",
        "winner"
      ],
      "execution_count": 348,
      "outputs": [
        {
          "output_type": "execute_result",
          "data": {
            "text/plain": [
              "party\n",
              "1.0    35480948\n",
              "2.0    43642639\n",
              "3.0     7373264\n",
              "Name: candidatevotes, dtype: int64"
            ]
          },
          "metadata": {
            "tags": []
          },
          "execution_count": 348
        }
      ]
    },
    {
      "cell_type": "code",
      "metadata": {
        "colab": {
          "base_uri": "https://localhost:8080/",
          "height": 399
        },
        "id": "yrw7pD2tT50e",
        "outputId": "4eb94dd1-1ccf-411e-eedb-fb5bbca910f9"
      },
      "source": [
        "year = 1984\n",
        "\n",
        "include = train[train['year'] == year]\n",
        "exclude = train[train['year'] != year]\n",
        "include"
      ],
      "execution_count": 349,
      "outputs": [
        {
          "output_type": "execute_result",
          "data": {
            "text/html": [
              "<div>\n",
              "<style scoped>\n",
              "    .dataframe tbody tr th:only-of-type {\n",
              "        vertical-align: middle;\n",
              "    }\n",
              "\n",
              "    .dataframe tbody tr th {\n",
              "        vertical-align: top;\n",
              "    }\n",
              "\n",
              "    .dataframe thead th {\n",
              "        text-align: right;\n",
              "    }\n",
              "</style>\n",
              "<table border=\"1\" class=\"dataframe\">\n",
              "  <thead>\n",
              "    <tr style=\"text-align: right;\">\n",
              "      <th></th>\n",
              "      <th>state</th>\n",
              "      <th>candidate</th>\n",
              "      <th>party</th>\n",
              "      <th>year</th>\n",
              "      <th>candidatevotes</th>\n",
              "    </tr>\n",
              "  </thead>\n",
              "  <tbody>\n",
              "    <tr>\n",
              "      <th>696</th>\n",
              "      <td>Alabama</td>\n",
              "      <td>Reagan, Ronald</td>\n",
              "      <td>2.0</td>\n",
              "      <td>1984</td>\n",
              "      <td>872849</td>\n",
              "    </tr>\n",
              "    <tr>\n",
              "      <th>697</th>\n",
              "      <td>Alabama</td>\n",
              "      <td>Mondale, Walter</td>\n",
              "      <td>1.0</td>\n",
              "      <td>1984</td>\n",
              "      <td>551899</td>\n",
              "    </tr>\n",
              "    <tr>\n",
              "      <th>698</th>\n",
              "      <td>Alabama</td>\n",
              "      <td>Bergland, David</td>\n",
              "      <td>3.0</td>\n",
              "      <td>1984</td>\n",
              "      <td>9504</td>\n",
              "    </tr>\n",
              "    <tr>\n",
              "      <th>699</th>\n",
              "      <td>Alabama</td>\n",
              "      <td>Hall, Gus</td>\n",
              "      <td>3.0</td>\n",
              "      <td>1984</td>\n",
              "      <td>4671</td>\n",
              "    </tr>\n",
              "    <tr>\n",
              "      <th>700</th>\n",
              "      <td>Alabama</td>\n",
              "      <td>Richards, Bob</td>\n",
              "      <td>3.0</td>\n",
              "      <td>1984</td>\n",
              "      <td>1401</td>\n",
              "    </tr>\n",
              "    <tr>\n",
              "      <th>...</th>\n",
              "      <td>...</td>\n",
              "      <td>...</td>\n",
              "      <td>...</td>\n",
              "      <td>...</td>\n",
              "      <td>...</td>\n",
              "    </tr>\n",
              "    <tr>\n",
              "      <th>1014</th>\n",
              "      <td>Wisconsin</td>\n",
              "      <td>Hall, Gus</td>\n",
              "      <td>3.0</td>\n",
              "      <td>1984</td>\n",
              "      <td>596</td>\n",
              "    </tr>\n",
              "    <tr>\n",
              "      <th>1015</th>\n",
              "      <td>Wisconsin</td>\n",
              "      <td>Mason, Melvin</td>\n",
              "      <td>3.0</td>\n",
              "      <td>1984</td>\n",
              "      <td>444</td>\n",
              "    </tr>\n",
              "    <tr>\n",
              "      <th>1016</th>\n",
              "      <td>Wyoming</td>\n",
              "      <td>Reagan, Ronald</td>\n",
              "      <td>2.0</td>\n",
              "      <td>1984</td>\n",
              "      <td>133241</td>\n",
              "    </tr>\n",
              "    <tr>\n",
              "      <th>1017</th>\n",
              "      <td>Wyoming</td>\n",
              "      <td>Mondale, Walter</td>\n",
              "      <td>1.0</td>\n",
              "      <td>1984</td>\n",
              "      <td>53370</td>\n",
              "    </tr>\n",
              "    <tr>\n",
              "      <th>1018</th>\n",
              "      <td>Wyoming</td>\n",
              "      <td>Bergland, David</td>\n",
              "      <td>3.0</td>\n",
              "      <td>1984</td>\n",
              "      <td>2357</td>\n",
              "    </tr>\n",
              "  </tbody>\n",
              "</table>\n",
              "<p>323 rows × 5 columns</p>\n",
              "</div>"
            ],
            "text/plain": [
              "          state        candidate  party  year  candidatevotes\n",
              "696     Alabama   Reagan, Ronald    2.0  1984          872849\n",
              "697     Alabama  Mondale, Walter    1.0  1984          551899\n",
              "698     Alabama  Bergland, David    3.0  1984            9504\n",
              "699     Alabama        Hall, Gus    3.0  1984            4671\n",
              "700     Alabama    Richards, Bob    3.0  1984            1401\n",
              "...         ...              ...    ...   ...             ...\n",
              "1014  Wisconsin        Hall, Gus    3.0  1984             596\n",
              "1015  Wisconsin    Mason, Melvin    3.0  1984             444\n",
              "1016    Wyoming   Reagan, Ronald    2.0  1984          133241\n",
              "1017    Wyoming  Mondale, Walter    1.0  1984           53370\n",
              "1018    Wyoming  Bergland, David    3.0  1984            2357\n",
              "\n",
              "[323 rows x 5 columns]"
            ]
          },
          "metadata": {
            "tags": []
          },
          "execution_count": 349
        }
      ]
    },
    {
      "cell_type": "code",
      "metadata": {
        "colab": {
          "base_uri": "https://localhost:8080/",
          "height": 296
        },
        "id": "aWkXHr1cT_uk",
        "outputId": "e0027e8f-45cb-47e6-d857-e9a6fedca1ce"
      },
      "source": [
        "include.groupby('party')['candidatevotes'].sum().plot.bar(ylim=0)\n",
        "plt.show()"
      ],
      "execution_count": 350,
      "outputs": [
        {
          "output_type": "display_data",
          "data": {
            "image/png": "[encoded data removed]",
            "text/plain": [
              "<Figure size 432x288 with 1 Axes>"
            ]
          },
          "metadata": {
            "tags": [],
            "needs_background": "light"
          }
        }
      ]
    },
    {
      "cell_type": "code",
      "metadata": {
        "colab": {
          "base_uri": "https://localhost:8080/"
        },
        "id": "laeSqzAfUHIe",
        "outputId": "255541c3-9d1f-4989-8a0f-165e6127bce8"
      },
      "source": [
        "winner = include.groupby('party')['candidatevotes'].sum()\n",
        "winner"
      ],
      "execution_count": 351,
      "outputs": [
        {
          "output_type": "execute_result",
          "data": {
            "text/plain": [
              "party\n",
              "1.0    37449813\n",
              "2.0    54166829\n",
              "3.0     1038219\n",
              "Name: candidatevotes, dtype: int64"
            ]
          },
          "metadata": {
            "tags": []
          },
          "execution_count": 351
        }
      ]
    },
    {
      "cell_type": "code",
      "metadata": {
        "colab": {
          "base_uri": "https://localhost:8080/",
          "height": 399
        },
        "id": "k-SYsTqvUNe2",
        "outputId": "4b4f672b-8d24-429c-c789-5c3dac0510eb"
      },
      "source": [
        "year = 1988\n",
        "\n",
        "include = train[train['year'] == year]\n",
        "exclude = train[train['year'] != year]\n",
        "include"
      ],
      "execution_count": 352,
      "outputs": [
        {
          "output_type": "execute_result",
          "data": {
            "text/html": [
              "<div>\n",
              "<style scoped>\n",
              "    .dataframe tbody tr th:only-of-type {\n",
              "        vertical-align: middle;\n",
              "    }\n",
              "\n",
              "    .dataframe tbody tr th {\n",
              "        vertical-align: top;\n",
              "    }\n",
              "\n",
              "    .dataframe thead th {\n",
              "        text-align: right;\n",
              "    }\n",
              "</style>\n",
              "<table border=\"1\" class=\"dataframe\">\n",
              "  <thead>\n",
              "    <tr style=\"text-align: right;\">\n",
              "      <th></th>\n",
              "      <th>state</th>\n",
              "      <th>candidate</th>\n",
              "      <th>party</th>\n",
              "      <th>year</th>\n",
              "      <th>candidatevotes</th>\n",
              "    </tr>\n",
              "  </thead>\n",
              "  <tbody>\n",
              "    <tr>\n",
              "      <th>1019</th>\n",
              "      <td>Alabama</td>\n",
              "      <td>Bush, George H.W.</td>\n",
              "      <td>2.0</td>\n",
              "      <td>1988</td>\n",
              "      <td>815576</td>\n",
              "    </tr>\n",
              "    <tr>\n",
              "      <th>1020</th>\n",
              "      <td>Alabama</td>\n",
              "      <td>Dukakis, Michael</td>\n",
              "      <td>1.0</td>\n",
              "      <td>1988</td>\n",
              "      <td>549506</td>\n",
              "    </tr>\n",
              "    <tr>\n",
              "      <th>1021</th>\n",
              "      <td>Alabama</td>\n",
              "      <td>Paul, Ronald \"\"Ron\"\"</td>\n",
              "      <td>3.0</td>\n",
              "      <td>1988</td>\n",
              "      <td>8460</td>\n",
              "    </tr>\n",
              "    <tr>\n",
              "      <th>1022</th>\n",
              "      <td>Alabama</td>\n",
              "      <td>Winn, Edward</td>\n",
              "      <td>3.0</td>\n",
              "      <td>1988</td>\n",
              "      <td>4428</td>\n",
              "    </tr>\n",
              "    <tr>\n",
              "      <th>1023</th>\n",
              "      <td>Alabama</td>\n",
              "      <td>Blank Vote</td>\n",
              "      <td>3.0</td>\n",
              "      <td>1988</td>\n",
              "      <td>506</td>\n",
              "    </tr>\n",
              "    <tr>\n",
              "      <th>...</th>\n",
              "      <td>...</td>\n",
              "      <td>...</td>\n",
              "      <td>...</td>\n",
              "      <td>...</td>\n",
              "      <td>...</td>\n",
              "    </tr>\n",
              "    <tr>\n",
              "      <th>1299</th>\n",
              "      <td>Wisconsin</td>\n",
              "      <td>Scattering</td>\n",
              "      <td>3.0</td>\n",
              "      <td>1988</td>\n",
              "      <td>2273</td>\n",
              "    </tr>\n",
              "    <tr>\n",
              "      <th>1300</th>\n",
              "      <td>Wyoming</td>\n",
              "      <td>Bush, George H.W.</td>\n",
              "      <td>2.0</td>\n",
              "      <td>1988</td>\n",
              "      <td>106867</td>\n",
              "    </tr>\n",
              "    <tr>\n",
              "      <th>1301</th>\n",
              "      <td>Wyoming</td>\n",
              "      <td>Dukakis, Michael</td>\n",
              "      <td>1.0</td>\n",
              "      <td>1988</td>\n",
              "      <td>67113</td>\n",
              "    </tr>\n",
              "    <tr>\n",
              "      <th>1302</th>\n",
              "      <td>Wyoming</td>\n",
              "      <td>Paul, Ronald \"\"Ron\"\"</td>\n",
              "      <td>3.0</td>\n",
              "      <td>1988</td>\n",
              "      <td>2026</td>\n",
              "    </tr>\n",
              "    <tr>\n",
              "      <th>1303</th>\n",
              "      <td>Wyoming</td>\n",
              "      <td>Fulani, Lenora</td>\n",
              "      <td>3.0</td>\n",
              "      <td>1988</td>\n",
              "      <td>545</td>\n",
              "    </tr>\n",
              "  </tbody>\n",
              "</table>\n",
              "<p>285 rows × 5 columns</p>\n",
              "</div>"
            ],
            "text/plain": [
              "          state             candidate  party  year  candidatevotes\n",
              "1019    Alabama     Bush, George H.W.    2.0  1988          815576\n",
              "1020    Alabama      Dukakis, Michael    1.0  1988          549506\n",
              "1021    Alabama  Paul, Ronald \"\"Ron\"\"    3.0  1988            8460\n",
              "1022    Alabama          Winn, Edward    3.0  1988            4428\n",
              "1023    Alabama            Blank Vote    3.0  1988             506\n",
              "...         ...                   ...    ...   ...             ...\n",
              "1299  Wisconsin            Scattering    3.0  1988            2273\n",
              "1300    Wyoming     Bush, George H.W.    2.0  1988          106867\n",
              "1301    Wyoming      Dukakis, Michael    1.0  1988           67113\n",
              "1302    Wyoming  Paul, Ronald \"\"Ron\"\"    3.0  1988            2026\n",
              "1303    Wyoming        Fulani, Lenora    3.0  1988             545\n",
              "\n",
              "[285 rows x 5 columns]"
            ]
          },
          "metadata": {
            "tags": []
          },
          "execution_count": 352
        }
      ]
    },
    {
      "cell_type": "code",
      "metadata": {
        "colab": {
          "base_uri": "https://localhost:8080/",
          "height": 296
        },
        "id": "3d_Y-JxeUTrY",
        "outputId": "b79ee8ae-59fc-493f-d87e-436485cbc752"
      },
      "source": [
        "include.groupby('party')['candidatevotes'].sum().plot.bar(ylim=0)\n",
        "plt.show()"
      ],
      "execution_count": 353,
      "outputs": [
        {
          "output_type": "display_data",
          "data": {
            "image/png": "[encoded data removed]",
            "text/plain": [
              "<Figure size 432x288 with 1 Axes>"
            ]
          },
          "metadata": {
            "tags": [],
            "needs_background": "light"
          }
        }
      ]
    },
    {
      "cell_type": "code",
      "metadata": {
        "colab": {
          "base_uri": "https://localhost:8080/"
        },
        "id": "APLQ6MROUZBi",
        "outputId": "98a1f690-5a2a-447d-bac9-6616e0bacb48"
      },
      "source": [
        "winner = include.groupby('party')['candidatevotes'].sum()\n",
        "winner"
      ],
      "execution_count": 354,
      "outputs": [
        {
          "output_type": "execute_result",
          "data": {
            "text/plain": [
              "party\n",
              "1.0    41716679\n",
              "2.0    48642640\n",
              "3.0     1227506\n",
              "Name: candidatevotes, dtype: int64"
            ]
          },
          "metadata": {
            "tags": []
          },
          "execution_count": 354
        }
      ]
    },
    {
      "cell_type": "code",
      "metadata": {
        "colab": {
          "base_uri": "https://localhost:8080/",
          "height": 399
        },
        "id": "xnhy6IljUe1O",
        "outputId": "849860df-d258-43fd-cf24-cfe8ec94c845"
      },
      "source": [
        "year = 1992\n",
        "\n",
        "include = train[train['year'] == year]\n",
        "exclude = train[train['year'] != year]\n",
        "include"
      ],
      "execution_count": 355,
      "outputs": [
        {
          "output_type": "execute_result",
          "data": {
            "text/html": [
              "<div>\n",
              "<style scoped>\n",
              "    .dataframe tbody tr th:only-of-type {\n",
              "        vertical-align: middle;\n",
              "    }\n",
              "\n",
              "    .dataframe tbody tr th {\n",
              "        vertical-align: top;\n",
              "    }\n",
              "\n",
              "    .dataframe thead th {\n",
              "        text-align: right;\n",
              "    }\n",
              "</style>\n",
              "<table border=\"1\" class=\"dataframe\">\n",
              "  <thead>\n",
              "    <tr style=\"text-align: right;\">\n",
              "      <th></th>\n",
              "      <th>state</th>\n",
              "      <th>candidate</th>\n",
              "      <th>party</th>\n",
              "      <th>year</th>\n",
              "      <th>candidatevotes</th>\n",
              "    </tr>\n",
              "  </thead>\n",
              "  <tbody>\n",
              "    <tr>\n",
              "      <th>1304</th>\n",
              "      <td>Alabama</td>\n",
              "      <td>Bush, George H.W.</td>\n",
              "      <td>2.0</td>\n",
              "      <td>1992</td>\n",
              "      <td>804283</td>\n",
              "    </tr>\n",
              "    <tr>\n",
              "      <th>1305</th>\n",
              "      <td>Alabama</td>\n",
              "      <td>Clinton, Bill</td>\n",
              "      <td>1.0</td>\n",
              "      <td>1992</td>\n",
              "      <td>690080</td>\n",
              "    </tr>\n",
              "    <tr>\n",
              "      <th>1306</th>\n",
              "      <td>Alabama</td>\n",
              "      <td>Perot, Ross</td>\n",
              "      <td>3.0</td>\n",
              "      <td>1992</td>\n",
              "      <td>183109</td>\n",
              "    </tr>\n",
              "    <tr>\n",
              "      <th>1307</th>\n",
              "      <td>Alabama</td>\n",
              "      <td>Marrou, Andre</td>\n",
              "      <td>3.0</td>\n",
              "      <td>1992</td>\n",
              "      <td>5737</td>\n",
              "    </tr>\n",
              "    <tr>\n",
              "      <th>1308</th>\n",
              "      <td>Alabama</td>\n",
              "      <td>Other</td>\n",
              "      <td>3.0</td>\n",
              "      <td>1992</td>\n",
              "      <td>4128</td>\n",
              "    </tr>\n",
              "    <tr>\n",
              "      <th>...</th>\n",
              "      <td>...</td>\n",
              "      <td>...</td>\n",
              "      <td>...</td>\n",
              "      <td>...</td>\n",
              "      <td>...</td>\n",
              "    </tr>\n",
              "    <tr>\n",
              "      <th>1669</th>\n",
              "      <td>Wyoming</td>\n",
              "      <td>Bush, George H.W.</td>\n",
              "      <td>2.0</td>\n",
              "      <td>1992</td>\n",
              "      <td>79347</td>\n",
              "    </tr>\n",
              "    <tr>\n",
              "      <th>1670</th>\n",
              "      <td>Wyoming</td>\n",
              "      <td>Clinton, Bill</td>\n",
              "      <td>1.0</td>\n",
              "      <td>1992</td>\n",
              "      <td>68160</td>\n",
              "    </tr>\n",
              "    <tr>\n",
              "      <th>1671</th>\n",
              "      <td>Wyoming</td>\n",
              "      <td>Perot, Ross</td>\n",
              "      <td>3.0</td>\n",
              "      <td>1992</td>\n",
              "      <td>51263</td>\n",
              "    </tr>\n",
              "    <tr>\n",
              "      <th>1672</th>\n",
              "      <td>Wyoming</td>\n",
              "      <td>Marrou, Andre</td>\n",
              "      <td>3.0</td>\n",
              "      <td>1992</td>\n",
              "      <td>844</td>\n",
              "    </tr>\n",
              "    <tr>\n",
              "      <th>1673</th>\n",
              "      <td>Wyoming</td>\n",
              "      <td>Fulani, Lenora</td>\n",
              "      <td>3.0</td>\n",
              "      <td>1992</td>\n",
              "      <td>270</td>\n",
              "    </tr>\n",
              "  </tbody>\n",
              "</table>\n",
              "<p>370 rows × 5 columns</p>\n",
              "</div>"
            ],
            "text/plain": [
              "        state          candidate  party  year  candidatevotes\n",
              "1304  Alabama  Bush, George H.W.    2.0  1992          804283\n",
              "1305  Alabama      Clinton, Bill    1.0  1992          690080\n",
              "1306  Alabama        Perot, Ross    3.0  1992          183109\n",
              "1307  Alabama      Marrou, Andre    3.0  1992            5737\n",
              "1308  Alabama              Other    3.0  1992            4128\n",
              "...       ...                ...    ...   ...             ...\n",
              "1669  Wyoming  Bush, George H.W.    2.0  1992           79347\n",
              "1670  Wyoming      Clinton, Bill    1.0  1992           68160\n",
              "1671  Wyoming        Perot, Ross    3.0  1992           51263\n",
              "1672  Wyoming      Marrou, Andre    3.0  1992             844\n",
              "1673  Wyoming     Fulani, Lenora    3.0  1992             270\n",
              "\n",
              "[370 rows x 5 columns]"
            ]
          },
          "metadata": {
            "tags": []
          },
          "execution_count": 355
        }
      ]
    },
    {
      "cell_type": "code",
      "metadata": {
        "colab": {
          "base_uri": "https://localhost:8080/",
          "height": 296
        },
        "id": "VzFslwnGUlzJ",
        "outputId": "0b8b81b8-390c-48c5-a6c7-2edb56ef49cd"
      },
      "source": [
        "include.groupby('party')['candidatevotes'].sum().plot.bar(ylim=0)\n",
        "plt.show()"
      ],
      "execution_count": 356,
      "outputs": [
        {
          "output_type": "display_data",
          "data": {
            "image/png": "[encoded data removed]",
            "text/plain": [
              "<Figure size 432x288 with 1 Axes>"
            ]
          },
          "metadata": {
            "tags": [],
            "needs_background": "light"
          }
        }
      ]
    },
    {
      "cell_type": "code",
      "metadata": {
        "colab": {
          "base_uri": "https://localhost:8080/"
        },
        "id": "wjVi0KfMUrvw",
        "outputId": "a493a1e3-e64a-4529-e3d7-d434b3bd69d5"
      },
      "source": [
        "winner = include.groupby('party')['candidatevotes'].sum()\n",
        "winner"
      ],
      "execution_count": 357,
      "outputs": [
        {
          "output_type": "execute_result",
          "data": {
            "text/plain": [
              "party\n",
              "1.0    44856747\n",
              "2.0    38798913\n",
              "3.0    20944120\n",
              "Name: candidatevotes, dtype: int64"
            ]
          },
          "metadata": {
            "tags": []
          },
          "execution_count": 357
        }
      ]
    },
    {
      "cell_type": "code",
      "metadata": {
        "colab": {
          "base_uri": "https://localhost:8080/",
          "height": 399
        },
        "id": "ydicBU5_UxbB",
        "outputId": "9fc5d045-313d-4ad1-ef9f-3ea8fe43192e"
      },
      "source": [
        "year = 1996\n",
        "\n",
        "include = train[train['year'] == year]\n",
        "exclude = train[train['year'] != year]\n",
        "include"
      ],
      "execution_count": 358,
      "outputs": [
        {
          "output_type": "execute_result",
          "data": {
            "text/html": [
              "<div>\n",
              "<style scoped>\n",
              "    .dataframe tbody tr th:only-of-type {\n",
              "        vertical-align: middle;\n",
              "    }\n",
              "\n",
              "    .dataframe tbody tr th {\n",
              "        vertical-align: top;\n",
              "    }\n",
              "\n",
              "    .dataframe thead th {\n",
              "        text-align: right;\n",
              "    }\n",
              "</style>\n",
              "<table border=\"1\" class=\"dataframe\">\n",
              "  <thead>\n",
              "    <tr style=\"text-align: right;\">\n",
              "      <th></th>\n",
              "      <th>state</th>\n",
              "      <th>candidate</th>\n",
              "      <th>party</th>\n",
              "      <th>year</th>\n",
              "      <th>candidatevotes</th>\n",
              "    </tr>\n",
              "  </thead>\n",
              "  <tbody>\n",
              "    <tr>\n",
              "      <th>1674</th>\n",
              "      <td>Alabama</td>\n",
              "      <td>Dole, Robert</td>\n",
              "      <td>2.0</td>\n",
              "      <td>1996</td>\n",
              "      <td>769044</td>\n",
              "    </tr>\n",
              "    <tr>\n",
              "      <th>1675</th>\n",
              "      <td>Alabama</td>\n",
              "      <td>Clinton, Bill</td>\n",
              "      <td>1.0</td>\n",
              "      <td>1996</td>\n",
              "      <td>662165</td>\n",
              "    </tr>\n",
              "    <tr>\n",
              "      <th>1676</th>\n",
              "      <td>Alabama</td>\n",
              "      <td>Blank Vote</td>\n",
              "      <td>3.0</td>\n",
              "      <td>1996</td>\n",
              "      <td>95030</td>\n",
              "    </tr>\n",
              "    <tr>\n",
              "      <th>1677</th>\n",
              "      <td>Alabama</td>\n",
              "      <td>Browne, Harry</td>\n",
              "      <td>3.0</td>\n",
              "      <td>1996</td>\n",
              "      <td>5290</td>\n",
              "    </tr>\n",
              "    <tr>\n",
              "      <th>1678</th>\n",
              "      <td>Alabama</td>\n",
              "      <td>Hagelin, John</td>\n",
              "      <td>3.0</td>\n",
              "      <td>1996</td>\n",
              "      <td>1697</td>\n",
              "    </tr>\n",
              "    <tr>\n",
              "      <th>...</th>\n",
              "      <td>...</td>\n",
              "      <td>...</td>\n",
              "      <td>...</td>\n",
              "      <td>...</td>\n",
              "      <td>...</td>\n",
              "    </tr>\n",
              "    <tr>\n",
              "      <th>2037</th>\n",
              "      <td>Wyoming</td>\n",
              "      <td>Dole, Robert</td>\n",
              "      <td>2.0</td>\n",
              "      <td>1996</td>\n",
              "      <td>105388</td>\n",
              "    </tr>\n",
              "    <tr>\n",
              "      <th>2038</th>\n",
              "      <td>Wyoming</td>\n",
              "      <td>Clinton, Bill</td>\n",
              "      <td>1.0</td>\n",
              "      <td>1996</td>\n",
              "      <td>77934</td>\n",
              "    </tr>\n",
              "    <tr>\n",
              "      <th>2039</th>\n",
              "      <td>Wyoming</td>\n",
              "      <td>Perot, Ross</td>\n",
              "      <td>3.0</td>\n",
              "      <td>1996</td>\n",
              "      <td>25928</td>\n",
              "    </tr>\n",
              "    <tr>\n",
              "      <th>2040</th>\n",
              "      <td>Wyoming</td>\n",
              "      <td>Browne, Harry</td>\n",
              "      <td>3.0</td>\n",
              "      <td>1996</td>\n",
              "      <td>1739</td>\n",
              "    </tr>\n",
              "    <tr>\n",
              "      <th>2041</th>\n",
              "      <td>Wyoming</td>\n",
              "      <td>Hagelin, John</td>\n",
              "      <td>3.0</td>\n",
              "      <td>1996</td>\n",
              "      <td>582</td>\n",
              "    </tr>\n",
              "  </tbody>\n",
              "</table>\n",
              "<p>368 rows × 5 columns</p>\n",
              "</div>"
            ],
            "text/plain": [
              "        state      candidate  party  year  candidatevotes\n",
              "1674  Alabama   Dole, Robert    2.0  1996          769044\n",
              "1675  Alabama  Clinton, Bill    1.0  1996          662165\n",
              "1676  Alabama     Blank Vote    3.0  1996           95030\n",
              "1677  Alabama  Browne, Harry    3.0  1996            5290\n",
              "1678  Alabama  Hagelin, John    3.0  1996            1697\n",
              "...       ...            ...    ...   ...             ...\n",
              "2037  Wyoming   Dole, Robert    2.0  1996          105388\n",
              "2038  Wyoming  Clinton, Bill    1.0  1996           77934\n",
              "2039  Wyoming    Perot, Ross    3.0  1996           25928\n",
              "2040  Wyoming  Browne, Harry    3.0  1996            1739\n",
              "2041  Wyoming  Hagelin, John    3.0  1996             582\n",
              "\n",
              "[368 rows x 5 columns]"
            ]
          },
          "metadata": {
            "tags": []
          },
          "execution_count": 358
        }
      ]
    },
    {
      "cell_type": "code",
      "metadata": {
        "colab": {
          "base_uri": "https://localhost:8080/",
          "height": 296
        },
        "id": "qpj79vphU2tt",
        "outputId": "c6f8b6dd-3852-4354-b317-d6067f110e06"
      },
      "source": [
        "include.groupby('party')['candidatevotes'].sum().plot.bar(ylim=0)\n",
        "plt.show()"
      ],
      "execution_count": 359,
      "outputs": [
        {
          "output_type": "display_data",
          "data": {
            "image/png": "[encoded data removed]",
            "text/plain": [
              "<Figure size 432x288 with 1 Axes>"
            ]
          },
          "metadata": {
            "tags": [],
            "needs_background": "light"
          }
        }
      ]
    },
    {
      "cell_type": "code",
      "metadata": {
        "colab": {
          "base_uri": "https://localhost:8080/"
        },
        "id": "Z2L68L5ZU7h-",
        "outputId": "913a32d5-81eb-48a7-933c-92dff1623414"
      },
      "source": [
        "winner = include.groupby('party')['candidatevotes'].sum()\n",
        "winner"
      ],
      "execution_count": 360,
      "outputs": [
        {
          "output_type": "execute_result",
          "data": {
            "text/plain": [
              "party\n",
              "1.0    47295351\n",
              "2.0    39003697\n",
              "3.0    10090770\n",
              "Name: candidatevotes, dtype: int64"
            ]
          },
          "metadata": {
            "tags": []
          },
          "execution_count": 360
        }
      ]
    },
    {
      "cell_type": "code",
      "metadata": {
        "colab": {
          "base_uri": "https://localhost:8080/",
          "height": 399
        },
        "id": "S1VI0XhRVCB6",
        "outputId": "1575bf72-b32c-4c4d-86bd-e2fe717818a2"
      },
      "source": [
        "year = 2000\n",
        "\n",
        "include = train[train['year'] == year]\n",
        "exclude = train[train['year'] != year]\n",
        "include"
      ],
      "execution_count": 361,
      "outputs": [
        {
          "output_type": "execute_result",
          "data": {
            "text/html": [
              "<div>\n",
              "<style scoped>\n",
              "    .dataframe tbody tr th:only-of-type {\n",
              "        vertical-align: middle;\n",
              "    }\n",
              "\n",
              "    .dataframe tbody tr th {\n",
              "        vertical-align: top;\n",
              "    }\n",
              "\n",
              "    .dataframe thead th {\n",
              "        text-align: right;\n",
              "    }\n",
              "</style>\n",
              "<table border=\"1\" class=\"dataframe\">\n",
              "  <thead>\n",
              "    <tr style=\"text-align: right;\">\n",
              "      <th></th>\n",
              "      <th>state</th>\n",
              "      <th>candidate</th>\n",
              "      <th>party</th>\n",
              "      <th>year</th>\n",
              "      <th>candidatevotes</th>\n",
              "    </tr>\n",
              "  </thead>\n",
              "  <tbody>\n",
              "    <tr>\n",
              "      <th>2042</th>\n",
              "      <td>Alabama</td>\n",
              "      <td>Bush, George W.</td>\n",
              "      <td>2.0</td>\n",
              "      <td>2000</td>\n",
              "      <td>941173</td>\n",
              "    </tr>\n",
              "    <tr>\n",
              "      <th>2043</th>\n",
              "      <td>Alabama</td>\n",
              "      <td>Gore, Al</td>\n",
              "      <td>1.0</td>\n",
              "      <td>2000</td>\n",
              "      <td>692611</td>\n",
              "    </tr>\n",
              "    <tr>\n",
              "      <th>2044</th>\n",
              "      <td>Alabama</td>\n",
              "      <td>Blank Vote</td>\n",
              "      <td>3.0</td>\n",
              "      <td>2000</td>\n",
              "      <td>25896</td>\n",
              "    </tr>\n",
              "    <tr>\n",
              "      <th>2045</th>\n",
              "      <td>Alabama</td>\n",
              "      <td>Browne, Harry</td>\n",
              "      <td>3.0</td>\n",
              "      <td>2000</td>\n",
              "      <td>5893</td>\n",
              "    </tr>\n",
              "    <tr>\n",
              "      <th>2046</th>\n",
              "      <td>Alabama</td>\n",
              "      <td>Blank Vote</td>\n",
              "      <td>3.0</td>\n",
              "      <td>2000</td>\n",
              "      <td>699</td>\n",
              "    </tr>\n",
              "    <tr>\n",
              "      <th>...</th>\n",
              "      <td>...</td>\n",
              "      <td>...</td>\n",
              "      <td>...</td>\n",
              "      <td>...</td>\n",
              "      <td>...</td>\n",
              "    </tr>\n",
              "    <tr>\n",
              "      <th>2406</th>\n",
              "      <td>Wyoming</td>\n",
              "      <td>Gore, Al</td>\n",
              "      <td>1.0</td>\n",
              "      <td>2000</td>\n",
              "      <td>60481</td>\n",
              "    </tr>\n",
              "    <tr>\n",
              "      <th>2407</th>\n",
              "      <td>Wyoming</td>\n",
              "      <td>Buchanan, Patrick \"\"Pat\"\"</td>\n",
              "      <td>3.0</td>\n",
              "      <td>2000</td>\n",
              "      <td>2724</td>\n",
              "    </tr>\n",
              "    <tr>\n",
              "      <th>2408</th>\n",
              "      <td>Wyoming</td>\n",
              "      <td>Browne, Harry</td>\n",
              "      <td>3.0</td>\n",
              "      <td>2000</td>\n",
              "      <td>1443</td>\n",
              "    </tr>\n",
              "    <tr>\n",
              "      <th>2409</th>\n",
              "      <td>Wyoming</td>\n",
              "      <td>Phillips, Howard</td>\n",
              "      <td>3.0</td>\n",
              "      <td>2000</td>\n",
              "      <td>720</td>\n",
              "    </tr>\n",
              "    <tr>\n",
              "      <th>2410</th>\n",
              "      <td>Wyoming</td>\n",
              "      <td>Hagelin, John</td>\n",
              "      <td>3.0</td>\n",
              "      <td>2000</td>\n",
              "      <td>411</td>\n",
              "    </tr>\n",
              "  </tbody>\n",
              "</table>\n",
              "<p>369 rows × 5 columns</p>\n",
              "</div>"
            ],
            "text/plain": [
              "        state                  candidate  party  year  candidatevotes\n",
              "2042  Alabama            Bush, George W.    2.0  2000          941173\n",
              "2043  Alabama                   Gore, Al    1.0  2000          692611\n",
              "2044  Alabama                 Blank Vote    3.0  2000           25896\n",
              "2045  Alabama              Browne, Harry    3.0  2000            5893\n",
              "2046  Alabama                 Blank Vote    3.0  2000             699\n",
              "...       ...                        ...    ...   ...             ...\n",
              "2406  Wyoming                   Gore, Al    1.0  2000           60481\n",
              "2407  Wyoming  Buchanan, Patrick \"\"Pat\"\"    3.0  2000            2724\n",
              "2408  Wyoming              Browne, Harry    3.0  2000            1443\n",
              "2409  Wyoming           Phillips, Howard    3.0  2000             720\n",
              "2410  Wyoming              Hagelin, John    3.0  2000             411\n",
              "\n",
              "[369 rows x 5 columns]"
            ]
          },
          "metadata": {
            "tags": []
          },
          "execution_count": 361
        }
      ]
    },
    {
      "cell_type": "code",
      "metadata": {
        "colab": {
          "base_uri": "https://localhost:8080/",
          "height": 296
        },
        "id": "MXzItLb5VMKE",
        "outputId": "6590d7b2-8e9b-42a0-e530-ac53af8dbd32"
      },
      "source": [
        "include.groupby('party')['candidatevotes'].sum().plot.bar(ylim=0)\n",
        "plt.show()"
      ],
      "execution_count": 362,
      "outputs": [
        {
          "output_type": "display_data",
          "data": {
            "image/png": "[encoded data removed]",
            "text/plain": [
              "<Figure size 432x288 with 1 Axes>"
            ]
          },
          "metadata": {
            "tags": [],
            "needs_background": "light"
          }
        }
      ]
    },
    {
      "cell_type": "code",
      "metadata": {
        "colab": {
          "base_uri": "https://localhost:8080/"
        },
        "id": "BQWD9hsbVYYz",
        "outputId": "bffcca59-2966-403e-cfa7-576d8c46b64e"
      },
      "source": [
        "winner = include.groupby('party')['candidatevotes'].sum()\n",
        "winner"
      ],
      "execution_count": 363,
      "outputs": [
        {
          "output_type": "execute_result",
          "data": {
            "text/plain": [
              "party\n",
              "1.0    49662314\n",
              "2.0    50311372\n",
              "3.0     5620296\n",
              "Name: candidatevotes, dtype: int64"
            ]
          },
          "metadata": {
            "tags": []
          },
          "execution_count": 363
        }
      ]
    },
    {
      "cell_type": "code",
      "metadata": {
        "colab": {
          "base_uri": "https://localhost:8080/",
          "height": 399
        },
        "id": "ht7VgsPVVeNR",
        "outputId": "041dc903-7ad4-4857-d825-cfba066561c5"
      },
      "source": [
        "year = 2004\n",
        "\n",
        "include = train[train['year'] == year]\n",
        "exclude = train[train['year'] != year]\n",
        "include"
      ],
      "execution_count": 364,
      "outputs": [
        {
          "output_type": "execute_result",
          "data": {
            "text/html": [
              "<div>\n",
              "<style scoped>\n",
              "    .dataframe tbody tr th:only-of-type {\n",
              "        vertical-align: middle;\n",
              "    }\n",
              "\n",
              "    .dataframe tbody tr th {\n",
              "        vertical-align: top;\n",
              "    }\n",
              "\n",
              "    .dataframe thead th {\n",
              "        text-align: right;\n",
              "    }\n",
              "</style>\n",
              "<table border=\"1\" class=\"dataframe\">\n",
              "  <thead>\n",
              "    <tr style=\"text-align: right;\">\n",
              "      <th></th>\n",
              "      <th>state</th>\n",
              "      <th>candidate</th>\n",
              "      <th>party</th>\n",
              "      <th>year</th>\n",
              "      <th>candidatevotes</th>\n",
              "    </tr>\n",
              "  </thead>\n",
              "  <tbody>\n",
              "    <tr>\n",
              "      <th>2411</th>\n",
              "      <td>Alabama</td>\n",
              "      <td>Bush, George W.</td>\n",
              "      <td>2.0</td>\n",
              "      <td>2004</td>\n",
              "      <td>1176394</td>\n",
              "    </tr>\n",
              "    <tr>\n",
              "      <th>2412</th>\n",
              "      <td>Alabama</td>\n",
              "      <td>Kerry, John</td>\n",
              "      <td>1.0</td>\n",
              "      <td>2004</td>\n",
              "      <td>693933</td>\n",
              "    </tr>\n",
              "    <tr>\n",
              "      <th>2413</th>\n",
              "      <td>Alabama</td>\n",
              "      <td>Other</td>\n",
              "      <td>3.0</td>\n",
              "      <td>2004</td>\n",
              "      <td>12190</td>\n",
              "    </tr>\n",
              "    <tr>\n",
              "      <th>2414</th>\n",
              "      <td>Alabama</td>\n",
              "      <td>Other</td>\n",
              "      <td>3.0</td>\n",
              "      <td>2004</td>\n",
              "      <td>898</td>\n",
              "    </tr>\n",
              "    <tr>\n",
              "      <th>2415</th>\n",
              "      <td>Alaska</td>\n",
              "      <td>Bush, George W.</td>\n",
              "      <td>2.0</td>\n",
              "      <td>2004</td>\n",
              "      <td>190889</td>\n",
              "    </tr>\n",
              "    <tr>\n",
              "      <th>...</th>\n",
              "      <td>...</td>\n",
              "      <td>...</td>\n",
              "      <td>...</td>\n",
              "      <td>...</td>\n",
              "      <td>...</td>\n",
              "    </tr>\n",
              "    <tr>\n",
              "      <th>2723</th>\n",
              "      <td>Wyoming</td>\n",
              "      <td>Kerry, John</td>\n",
              "      <td>1.0</td>\n",
              "      <td>2004</td>\n",
              "      <td>70776</td>\n",
              "    </tr>\n",
              "    <tr>\n",
              "      <th>2724</th>\n",
              "      <td>Wyoming</td>\n",
              "      <td>Nader, Ralph</td>\n",
              "      <td>3.0</td>\n",
              "      <td>2004</td>\n",
              "      <td>3372</td>\n",
              "    </tr>\n",
              "    <tr>\n",
              "      <th>2725</th>\n",
              "      <td>Wyoming</td>\n",
              "      <td>Badnarik, Michael</td>\n",
              "      <td>3.0</td>\n",
              "      <td>2004</td>\n",
              "      <td>1171</td>\n",
              "    </tr>\n",
              "    <tr>\n",
              "      <th>2726</th>\n",
              "      <td>Wyoming</td>\n",
              "      <td>Other</td>\n",
              "      <td>3.0</td>\n",
              "      <td>2004</td>\n",
              "      <td>480</td>\n",
              "    </tr>\n",
              "    <tr>\n",
              "      <th>2727</th>\n",
              "      <td>Wyoming</td>\n",
              "      <td>Other</td>\n",
              "      <td>3.0</td>\n",
              "      <td>2004</td>\n",
              "      <td>433</td>\n",
              "    </tr>\n",
              "  </tbody>\n",
              "</table>\n",
              "<p>317 rows × 5 columns</p>\n",
              "</div>"
            ],
            "text/plain": [
              "        state          candidate  party  year  candidatevotes\n",
              "2411  Alabama    Bush, George W.    2.0  2004         1176394\n",
              "2412  Alabama        Kerry, John    1.0  2004          693933\n",
              "2413  Alabama              Other    3.0  2004           12190\n",
              "2414  Alabama              Other    3.0  2004             898\n",
              "2415   Alaska    Bush, George W.    2.0  2004          190889\n",
              "...       ...                ...    ...   ...             ...\n",
              "2723  Wyoming        Kerry, John    1.0  2004           70776\n",
              "2724  Wyoming       Nader, Ralph    3.0  2004            3372\n",
              "2725  Wyoming  Badnarik, Michael    3.0  2004            1171\n",
              "2726  Wyoming              Other    3.0  2004             480\n",
              "2727  Wyoming              Other    3.0  2004             433\n",
              "\n",
              "[317 rows x 5 columns]"
            ]
          },
          "metadata": {
            "tags": []
          },
          "execution_count": 364
        }
      ]
    },
    {
      "cell_type": "code",
      "metadata": {
        "colab": {
          "base_uri": "https://localhost:8080/",
          "height": 296
        },
        "id": "-Rsm3bL2Vj4y",
        "outputId": "5e9e5103-48bb-47cd-8008-d7208fe632e3"
      },
      "source": [
        "include.groupby('party')['candidatevotes'].sum().plot.bar(ylim=0)\n",
        "plt.show()"
      ],
      "execution_count": 365,
      "outputs": [
        {
          "output_type": "display_data",
          "data": {
            "image/png": "[encoded data removed]",
            "text/plain": [
              "<Figure size 432x288 with 1 Axes>"
            ]
          },
          "metadata": {
            "tags": [],
            "needs_background": "light"
          }
        }
      ]
    },
    {
      "cell_type": "code",
      "metadata": {
        "colab": {
          "base_uri": "https://localhost:8080/"
        },
        "id": "v19FJGLEVpYo",
        "outputId": "00d6da26-b4c3-4d1d-ab8a-6c7a74a42b23"
      },
      "source": [
        "winner = include.groupby('party')['candidatevotes'].sum()\n",
        "winner"
      ],
      "execution_count": 366,
      "outputs": [
        {
          "output_type": "execute_result",
          "data": {
            "text/plain": [
              "party\n",
              "1.0    57449547\n",
              "2.0    61872711\n",
              "3.0     3027192\n",
              "Name: candidatevotes, dtype: int64"
            ]
          },
          "metadata": {
            "tags": []
          },
          "execution_count": 366
        }
      ]
    },
    {
      "cell_type": "code",
      "metadata": {
        "colab": {
          "base_uri": "https://localhost:8080/",
          "height": 399
        },
        "id": "te4ihwNHVu9K",
        "outputId": "151e8c02-bf33-4712-f99c-9d790ef355fc"
      },
      "source": [
        "year = 2008\n",
        "\n",
        "include = train[train['year'] == year]\n",
        "exclude = train[train['year'] != year]\n",
        "include"
      ],
      "execution_count": 367,
      "outputs": [
        {
          "output_type": "execute_result",
          "data": {
            "text/html": [
              "<div>\n",
              "<style scoped>\n",
              "    .dataframe tbody tr th:only-of-type {\n",
              "        vertical-align: middle;\n",
              "    }\n",
              "\n",
              "    .dataframe tbody tr th {\n",
              "        vertical-align: top;\n",
              "    }\n",
              "\n",
              "    .dataframe thead th {\n",
              "        text-align: right;\n",
              "    }\n",
              "</style>\n",
              "<table border=\"1\" class=\"dataframe\">\n",
              "  <thead>\n",
              "    <tr style=\"text-align: right;\">\n",
              "      <th></th>\n",
              "      <th>state</th>\n",
              "      <th>candidate</th>\n",
              "      <th>party</th>\n",
              "      <th>year</th>\n",
              "      <th>candidatevotes</th>\n",
              "    </tr>\n",
              "  </thead>\n",
              "  <tbody>\n",
              "    <tr>\n",
              "      <th>2728</th>\n",
              "      <td>Alabama</td>\n",
              "      <td>McCain, John</td>\n",
              "      <td>2.0</td>\n",
              "      <td>2008</td>\n",
              "      <td>1266546</td>\n",
              "    </tr>\n",
              "    <tr>\n",
              "      <th>2729</th>\n",
              "      <td>Alabama</td>\n",
              "      <td>Obama, Barack H.</td>\n",
              "      <td>1.0</td>\n",
              "      <td>2008</td>\n",
              "      <td>813479</td>\n",
              "    </tr>\n",
              "    <tr>\n",
              "      <th>2730</th>\n",
              "      <td>Alabama</td>\n",
              "      <td>Blank Vote</td>\n",
              "      <td>3.0</td>\n",
              "      <td>2008</td>\n",
              "      <td>16089</td>\n",
              "    </tr>\n",
              "    <tr>\n",
              "      <th>2731</th>\n",
              "      <td>Alabama</td>\n",
              "      <td>Blank Vote</td>\n",
              "      <td>3.0</td>\n",
              "      <td>2008</td>\n",
              "      <td>3705</td>\n",
              "    </tr>\n",
              "    <tr>\n",
              "      <th>2732</th>\n",
              "      <td>Alaska</td>\n",
              "      <td>McCain, John</td>\n",
              "      <td>2.0</td>\n",
              "      <td>2008</td>\n",
              "      <td>193841</td>\n",
              "    </tr>\n",
              "    <tr>\n",
              "      <th>...</th>\n",
              "      <td>...</td>\n",
              "      <td>...</td>\n",
              "      <td>...</td>\n",
              "      <td>...</td>\n",
              "      <td>...</td>\n",
              "    </tr>\n",
              "    <tr>\n",
              "      <th>3074</th>\n",
              "      <td>Wyoming</td>\n",
              "      <td>Obama, Barack H.</td>\n",
              "      <td>1.0</td>\n",
              "      <td>2008</td>\n",
              "      <td>82868</td>\n",
              "    </tr>\n",
              "    <tr>\n",
              "      <th>3075</th>\n",
              "      <td>Wyoming</td>\n",
              "      <td>Blank Vote</td>\n",
              "      <td>3.0</td>\n",
              "      <td>2008</td>\n",
              "      <td>3717</td>\n",
              "    </tr>\n",
              "    <tr>\n",
              "      <th>3076</th>\n",
              "      <td>Wyoming</td>\n",
              "      <td>Barr, Bob</td>\n",
              "      <td>3.0</td>\n",
              "      <td>2008</td>\n",
              "      <td>1594</td>\n",
              "    </tr>\n",
              "    <tr>\n",
              "      <th>3077</th>\n",
              "      <td>Wyoming</td>\n",
              "      <td>Blank Vote</td>\n",
              "      <td>3.0</td>\n",
              "      <td>2008</td>\n",
              "      <td>1521</td>\n",
              "    </tr>\n",
              "    <tr>\n",
              "      <th>3078</th>\n",
              "      <td>Wyoming</td>\n",
              "      <td>Over Vote</td>\n",
              "      <td>3.0</td>\n",
              "      <td>2008</td>\n",
              "      <td>246</td>\n",
              "    </tr>\n",
              "  </tbody>\n",
              "</table>\n",
              "<p>351 rows × 5 columns</p>\n",
              "</div>"
            ],
            "text/plain": [
              "        state         candidate  party  year  candidatevotes\n",
              "2728  Alabama      McCain, John    2.0  2008         1266546\n",
              "2729  Alabama  Obama, Barack H.    1.0  2008          813479\n",
              "2730  Alabama        Blank Vote    3.0  2008           16089\n",
              "2731  Alabama        Blank Vote    3.0  2008            3705\n",
              "2732   Alaska      McCain, John    2.0  2008          193841\n",
              "...       ...               ...    ...   ...             ...\n",
              "3074  Wyoming  Obama, Barack H.    1.0  2008           82868\n",
              "3075  Wyoming        Blank Vote    3.0  2008            3717\n",
              "3076  Wyoming         Barr, Bob    3.0  2008            1594\n",
              "3077  Wyoming        Blank Vote    3.0  2008            1521\n",
              "3078  Wyoming         Over Vote    3.0  2008             246\n",
              "\n",
              "[351 rows x 5 columns]"
            ]
          },
          "metadata": {
            "tags": []
          },
          "execution_count": 367
        }
      ]
    },
    {
      "cell_type": "code",
      "metadata": {
        "colab": {
          "base_uri": "https://localhost:8080/",
          "height": 296
        },
        "id": "MMdm_sxJV19Q",
        "outputId": "c5b81d7b-e15b-4c9b-9411-213ae3672e77"
      },
      "source": [
        "include.groupby('party')['candidatevotes'].sum().plot.bar(ylim=0)\n",
        "plt.show()"
      ],
      "execution_count": 368,
      "outputs": [
        {
          "output_type": "display_data",
          "data": {
            "image/png": "[encoded data removed]",
            "text/plain": [
              "<Figure size 432x288 with 1 Axes>"
            ]
          },
          "metadata": {
            "tags": [],
            "needs_background": "light"
          }
        }
      ]
    },
    {
      "cell_type": "code",
      "metadata": {
        "colab": {
          "base_uri": "https://localhost:8080/"
        },
        "id": "DqfwVdAVV65o",
        "outputId": "3dcad3f1-1539-4c0b-bf3c-313ac84533db"
      },
      "source": [
        "winner = include.groupby('party')['candidatevotes'].sum()\n",
        "winner"
      ],
      "execution_count": 369,
      "outputs": [
        {
          "output_type": "execute_result",
          "data": {
            "text/plain": [
              "party\n",
              "1.0    69338846\n",
              "2.0    59613835\n",
              "3.0     2466572\n",
              "Name: candidatevotes, dtype: int64"
            ]
          },
          "metadata": {
            "tags": []
          },
          "execution_count": 369
        }
      ]
    },
    {
      "cell_type": "code",
      "metadata": {
        "colab": {
          "base_uri": "https://localhost:8080/",
          "height": 399
        },
        "id": "UDKBWd7gWBJ4",
        "outputId": "87f680fe-c5d4-41a3-9ba6-69ef0940dc87"
      },
      "source": [
        "year = 2012\n",
        "\n",
        "include = train[train['year'] == year]\n",
        "exclude = train[train['year'] != year]\n",
        "include"
      ],
      "execution_count": 370,
      "outputs": [
        {
          "output_type": "execute_result",
          "data": {
            "text/html": [
              "<div>\n",
              "<style scoped>\n",
              "    .dataframe tbody tr th:only-of-type {\n",
              "        vertical-align: middle;\n",
              "    }\n",
              "\n",
              "    .dataframe tbody tr th {\n",
              "        vertical-align: top;\n",
              "    }\n",
              "\n",
              "    .dataframe thead th {\n",
              "        text-align: right;\n",
              "    }\n",
              "</style>\n",
              "<table border=\"1\" class=\"dataframe\">\n",
              "  <thead>\n",
              "    <tr style=\"text-align: right;\">\n",
              "      <th></th>\n",
              "      <th>state</th>\n",
              "      <th>candidate</th>\n",
              "      <th>party</th>\n",
              "      <th>year</th>\n",
              "      <th>candidatevotes</th>\n",
              "    </tr>\n",
              "  </thead>\n",
              "  <tbody>\n",
              "    <tr>\n",
              "      <th>3079</th>\n",
              "      <td>Alabama</td>\n",
              "      <td>Romney, Mitt</td>\n",
              "      <td>2.0</td>\n",
              "      <td>2012</td>\n",
              "      <td>1255925</td>\n",
              "    </tr>\n",
              "    <tr>\n",
              "      <th>3080</th>\n",
              "      <td>Alabama</td>\n",
              "      <td>Obama, Barack H.</td>\n",
              "      <td>1.0</td>\n",
              "      <td>2012</td>\n",
              "      <td>795696</td>\n",
              "    </tr>\n",
              "    <tr>\n",
              "      <th>3081</th>\n",
              "      <td>Alabama</td>\n",
              "      <td>Blank Vote</td>\n",
              "      <td>3.0</td>\n",
              "      <td>2012</td>\n",
              "      <td>18706</td>\n",
              "    </tr>\n",
              "    <tr>\n",
              "      <th>3082</th>\n",
              "      <td>Alabama</td>\n",
              "      <td>Blank Vote</td>\n",
              "      <td>3.0</td>\n",
              "      <td>2012</td>\n",
              "      <td>4011</td>\n",
              "    </tr>\n",
              "    <tr>\n",
              "      <th>3083</th>\n",
              "      <td>Alaska</td>\n",
              "      <td>Romney, Mitt</td>\n",
              "      <td>2.0</td>\n",
              "      <td>2012</td>\n",
              "      <td>164676</td>\n",
              "    </tr>\n",
              "    <tr>\n",
              "      <th>...</th>\n",
              "      <td>...</td>\n",
              "      <td>...</td>\n",
              "      <td>...</td>\n",
              "      <td>...</td>\n",
              "      <td>...</td>\n",
              "    </tr>\n",
              "    <tr>\n",
              "      <th>3390</th>\n",
              "      <td>Wyoming</td>\n",
              "      <td>Johnson, Gary</td>\n",
              "      <td>3.0</td>\n",
              "      <td>2012</td>\n",
              "      <td>5326</td>\n",
              "    </tr>\n",
              "    <tr>\n",
              "      <th>3391</th>\n",
              "      <td>Wyoming</td>\n",
              "      <td>Blank Vote</td>\n",
              "      <td>3.0</td>\n",
              "      <td>2012</td>\n",
              "      <td>2035</td>\n",
              "    </tr>\n",
              "    <tr>\n",
              "      <th>3392</th>\n",
              "      <td>Wyoming</td>\n",
              "      <td>Goode, Virgil Hamlin, Jr.</td>\n",
              "      <td>3.0</td>\n",
              "      <td>2012</td>\n",
              "      <td>1452</td>\n",
              "    </tr>\n",
              "    <tr>\n",
              "      <th>3393</th>\n",
              "      <td>Wyoming</td>\n",
              "      <td>Blank Vote</td>\n",
              "      <td>3.0</td>\n",
              "      <td>2012</td>\n",
              "      <td>1367</td>\n",
              "    </tr>\n",
              "    <tr>\n",
              "      <th>3394</th>\n",
              "      <td>Wyoming</td>\n",
              "      <td>Over Vote</td>\n",
              "      <td>3.0</td>\n",
              "      <td>2012</td>\n",
              "      <td>273</td>\n",
              "    </tr>\n",
              "  </tbody>\n",
              "</table>\n",
              "<p>316 rows × 5 columns</p>\n",
              "</div>"
            ],
            "text/plain": [
              "        state                  candidate  party  year  candidatevotes\n",
              "3079  Alabama               Romney, Mitt    2.0  2012         1255925\n",
              "3080  Alabama           Obama, Barack H.    1.0  2012          795696\n",
              "3081  Alabama                 Blank Vote    3.0  2012           18706\n",
              "3082  Alabama                 Blank Vote    3.0  2012            4011\n",
              "3083   Alaska               Romney, Mitt    2.0  2012          164676\n",
              "...       ...                        ...    ...   ...             ...\n",
              "3390  Wyoming              Johnson, Gary    3.0  2012            5326\n",
              "3391  Wyoming                 Blank Vote    3.0  2012            2035\n",
              "3392  Wyoming  Goode, Virgil Hamlin, Jr.    3.0  2012            1452\n",
              "3393  Wyoming                 Blank Vote    3.0  2012            1367\n",
              "3394  Wyoming                  Over Vote    3.0  2012             273\n",
              "\n",
              "[316 rows x 5 columns]"
            ]
          },
          "metadata": {
            "tags": []
          },
          "execution_count": 370
        }
      ]
    },
    {
      "cell_type": "code",
      "metadata": {
        "colab": {
          "base_uri": "https://localhost:8080/",
          "height": 296
        },
        "id": "JJbCFBEoWHIk",
        "outputId": "7007975f-48a5-4cb8-cfc6-db07d8dde279"
      },
      "source": [
        "include.groupby('party')['candidatevotes'].sum().plot.bar(ylim=0)\n",
        "plt.show()"
      ],
      "execution_count": 371,
      "outputs": [
        {
          "output_type": "display_data",
          "data": {
            "image/png": "[encoded data removed]",
            "text/plain": [
              "<Figure size 432x288 with 1 Axes>"
            ]
          },
          "metadata": {
            "tags": [],
            "needs_background": "light"
          }
        }
      ]
    },
    {
      "cell_type": "code",
      "metadata": {
        "colab": {
          "base_uri": "https://localhost:8080/"
        },
        "id": "bD3shYkkWPCF",
        "outputId": "beb9760f-5376-4a68-9b76-782b8312a88b"
      },
      "source": [
        "winner = include.groupby('party')['candidatevotes'].sum()\n",
        "winner"
      ],
      "execution_count": 372,
      "outputs": [
        {
          "output_type": "execute_result",
          "data": {
            "text/plain": [
              "party\n",
              "1.0    64205850\n",
              "2.0    60670117\n",
              "3.0     4264030\n",
              "Name: candidatevotes, dtype: int64"
            ]
          },
          "metadata": {
            "tags": []
          },
          "execution_count": 372
        }
      ]
    },
    {
      "cell_type": "code",
      "metadata": {
        "colab": {
          "base_uri": "https://localhost:8080/",
          "height": 399
        },
        "id": "fiTBtXTNWVe4",
        "outputId": "1b95758c-6af7-4045-febb-dba7a801caa3"
      },
      "source": [
        "year = 2016\n",
        "\n",
        "include = train[train['year'] == year]\n",
        "exclude = train[train['year'] != year]\n",
        "include"
      ],
      "execution_count": 373,
      "outputs": [
        {
          "output_type": "execute_result",
          "data": {
            "text/html": [
              "<div>\n",
              "<style scoped>\n",
              "    .dataframe tbody tr th:only-of-type {\n",
              "        vertical-align: middle;\n",
              "    }\n",
              "\n",
              "    .dataframe tbody tr th {\n",
              "        vertical-align: top;\n",
              "    }\n",
              "\n",
              "    .dataframe thead th {\n",
              "        text-align: right;\n",
              "    }\n",
              "</style>\n",
              "<table border=\"1\" class=\"dataframe\">\n",
              "  <thead>\n",
              "    <tr style=\"text-align: right;\">\n",
              "      <th></th>\n",
              "      <th>state</th>\n",
              "      <th>candidate</th>\n",
              "      <th>party</th>\n",
              "      <th>year</th>\n",
              "      <th>candidatevotes</th>\n",
              "    </tr>\n",
              "  </thead>\n",
              "  <tbody>\n",
              "    <tr>\n",
              "      <th>3395</th>\n",
              "      <td>Alabama</td>\n",
              "      <td>Trump, Donald J.</td>\n",
              "      <td>2.0</td>\n",
              "      <td>2016</td>\n",
              "      <td>1318255</td>\n",
              "    </tr>\n",
              "    <tr>\n",
              "      <th>3396</th>\n",
              "      <td>Alabama</td>\n",
              "      <td>Clinton, Hillary</td>\n",
              "      <td>1.0</td>\n",
              "      <td>2016</td>\n",
              "      <td>729547</td>\n",
              "    </tr>\n",
              "    <tr>\n",
              "      <th>3397</th>\n",
              "      <td>Alabama</td>\n",
              "      <td>Johnson, Gary</td>\n",
              "      <td>3.0</td>\n",
              "      <td>2016</td>\n",
              "      <td>44467</td>\n",
              "    </tr>\n",
              "    <tr>\n",
              "      <th>3398</th>\n",
              "      <td>Alabama</td>\n",
              "      <td>Blank Vote</td>\n",
              "      <td>3.0</td>\n",
              "      <td>2016</td>\n",
              "      <td>21712</td>\n",
              "    </tr>\n",
              "    <tr>\n",
              "      <th>3399</th>\n",
              "      <td>Alabama</td>\n",
              "      <td>Stein, Jill</td>\n",
              "      <td>3.0</td>\n",
              "      <td>2016</td>\n",
              "      <td>9391</td>\n",
              "    </tr>\n",
              "    <tr>\n",
              "      <th>...</th>\n",
              "      <td>...</td>\n",
              "      <td>...</td>\n",
              "      <td>...</td>\n",
              "      <td>...</td>\n",
              "      <td>...</td>\n",
              "    </tr>\n",
              "    <tr>\n",
              "      <th>3735</th>\n",
              "      <td>Wyoming</td>\n",
              "      <td>Blank Vote</td>\n",
              "      <td>3.0</td>\n",
              "      <td>2016</td>\n",
              "      <td>6904</td>\n",
              "    </tr>\n",
              "    <tr>\n",
              "      <th>3736</th>\n",
              "      <td>Wyoming</td>\n",
              "      <td>Blank Vote</td>\n",
              "      <td>3.0</td>\n",
              "      <td>2016</td>\n",
              "      <td>3224</td>\n",
              "    </tr>\n",
              "    <tr>\n",
              "      <th>3737</th>\n",
              "      <td>Wyoming</td>\n",
              "      <td>Blank Vote</td>\n",
              "      <td>3.0</td>\n",
              "      <td>2016</td>\n",
              "      <td>2661</td>\n",
              "    </tr>\n",
              "    <tr>\n",
              "      <th>3738</th>\n",
              "      <td>Wyoming</td>\n",
              "      <td>Castle, Darrell L.</td>\n",
              "      <td>3.0</td>\n",
              "      <td>2016</td>\n",
              "      <td>2042</td>\n",
              "    </tr>\n",
              "    <tr>\n",
              "      <th>3739</th>\n",
              "      <td>Wyoming</td>\n",
              "      <td>Over Vote</td>\n",
              "      <td>3.0</td>\n",
              "      <td>2016</td>\n",
              "      <td>278</td>\n",
              "    </tr>\n",
              "  </tbody>\n",
              "</table>\n",
              "<p>345 rows × 5 columns</p>\n",
              "</div>"
            ],
            "text/plain": [
              "        state           candidate  party  year  candidatevotes\n",
              "3395  Alabama    Trump, Donald J.    2.0  2016         1318255\n",
              "3396  Alabama    Clinton, Hillary    1.0  2016          729547\n",
              "3397  Alabama       Johnson, Gary    3.0  2016           44467\n",
              "3398  Alabama          Blank Vote    3.0  2016           21712\n",
              "3399  Alabama         Stein, Jill    3.0  2016            9391\n",
              "...       ...                 ...    ...   ...             ...\n",
              "3735  Wyoming          Blank Vote    3.0  2016            6904\n",
              "3736  Wyoming          Blank Vote    3.0  2016            3224\n",
              "3737  Wyoming          Blank Vote    3.0  2016            2661\n",
              "3738  Wyoming  Castle, Darrell L.    3.0  2016            2042\n",
              "3739  Wyoming           Over Vote    3.0  2016             278\n",
              "\n",
              "[345 rows x 5 columns]"
            ]
          },
          "metadata": {
            "tags": []
          },
          "execution_count": 373
        }
      ]
    },
    {
      "cell_type": "code",
      "metadata": {
        "colab": {
          "base_uri": "https://localhost:8080/",
          "height": 296
        },
        "id": "kBxLhsS7Wa8d",
        "outputId": "f68d073a-fcf4-4468-b3e0-4cf9a75e4c60"
      },
      "source": [
        "include.groupby('party')['candidatevotes'].sum().plot.bar(ylim=0)\n",
        "plt.show()"
      ],
      "execution_count": 374,
      "outputs": [
        {
          "output_type": "display_data",
          "data": {
            "image/png": "[encoded data removed]",
            "text/plain": [
              "<Figure size 432x288 with 1 Axes>"
            ]
          },
          "metadata": {
            "tags": [],
            "needs_background": "light"
          }
        }
      ]
    },
    {
      "cell_type": "code",
      "metadata": {
        "colab": {
          "base_uri": "https://localhost:8080/"
        },
        "id": "N5b9B-hsWg_V",
        "outputId": "feca9885-8e4d-4e58-d293-fdbac50096b4"
      },
      "source": [
        "winner = include.groupby('party')['candidatevotes'].sum()\n",
        "winner"
      ],
      "execution_count": 375,
      "outputs": [
        {
          "output_type": "execute_result",
          "data": {
            "text/plain": [
              "party\n",
              "1.0    65677288\n",
              "2.0    62692670\n",
              "3.0     8417229\n",
              "Name: candidatevotes, dtype: int64"
            ]
          },
          "metadata": {
            "tags": []
          },
          "execution_count": 375
        }
      ]
    },
    {
      "cell_type": "code",
      "metadata": {
        "colab": {
          "base_uri": "https://localhost:8080/",
          "height": 399
        },
        "id": "hAiJgEoyWnIP",
        "outputId": "8892b585-0a62-480b-a40f-0746b7d2c858"
      },
      "source": [
        "year = 2020\n",
        "\n",
        "include = train[train['year'] == year]\n",
        "exclude = train[train['year'] != year]\n",
        "include"
      ],
      "execution_count": 376,
      "outputs": [
        {
          "output_type": "execute_result",
          "data": {
            "text/html": [
              "<div>\n",
              "<style scoped>\n",
              "    .dataframe tbody tr th:only-of-type {\n",
              "        vertical-align: middle;\n",
              "    }\n",
              "\n",
              "    .dataframe tbody tr th {\n",
              "        vertical-align: top;\n",
              "    }\n",
              "\n",
              "    .dataframe thead th {\n",
              "        text-align: right;\n",
              "    }\n",
              "</style>\n",
              "<table border=\"1\" class=\"dataframe\">\n",
              "  <thead>\n",
              "    <tr style=\"text-align: right;\">\n",
              "      <th></th>\n",
              "      <th>state</th>\n",
              "      <th>candidate</th>\n",
              "      <th>party</th>\n",
              "      <th>year</th>\n",
              "      <th>candidatevotes</th>\n",
              "    </tr>\n",
              "  </thead>\n",
              "  <tbody>\n",
              "    <tr>\n",
              "      <th>3740</th>\n",
              "      <td>Alabama</td>\n",
              "      <td>Write-ins</td>\n",
              "      <td>3.0</td>\n",
              "      <td>2020</td>\n",
              "      <td>7312</td>\n",
              "    </tr>\n",
              "    <tr>\n",
              "      <th>3741</th>\n",
              "      <td>Alabama</td>\n",
              "      <td>Donald Trump</td>\n",
              "      <td>2.0</td>\n",
              "      <td>2020</td>\n",
              "      <td>1441170</td>\n",
              "    </tr>\n",
              "    <tr>\n",
              "      <th>3742</th>\n",
              "      <td>Alabama</td>\n",
              "      <td>Jo Jorgensen</td>\n",
              "      <td>3.0</td>\n",
              "      <td>2020</td>\n",
              "      <td>25176</td>\n",
              "    </tr>\n",
              "    <tr>\n",
              "      <th>3743</th>\n",
              "      <td>Alabama</td>\n",
              "      <td>Joe Biden</td>\n",
              "      <td>1.0</td>\n",
              "      <td>2020</td>\n",
              "      <td>849624</td>\n",
              "    </tr>\n",
              "    <tr>\n",
              "      <th>3744</th>\n",
              "      <td>Alaska</td>\n",
              "      <td>Write-ins</td>\n",
              "      <td>3.0</td>\n",
              "      <td>2020</td>\n",
              "      <td>76</td>\n",
              "    </tr>\n",
              "    <tr>\n",
              "      <th>...</th>\n",
              "      <td>...</td>\n",
              "      <td>...</td>\n",
              "      <td>...</td>\n",
              "      <td>...</td>\n",
              "      <td>...</td>\n",
              "    </tr>\n",
              "    <tr>\n",
              "      <th>4086</th>\n",
              "      <td>Wyoming</td>\n",
              "      <td>Write-ins</td>\n",
              "      <td>3.0</td>\n",
              "      <td>2020</td>\n",
              "      <td>1739</td>\n",
              "    </tr>\n",
              "    <tr>\n",
              "      <th>4087</th>\n",
              "      <td>Wyoming</td>\n",
              "      <td>Brock Pierce</td>\n",
              "      <td>3.0</td>\n",
              "      <td>2020</td>\n",
              "      <td>2208</td>\n",
              "    </tr>\n",
              "    <tr>\n",
              "      <th>4088</th>\n",
              "      <td>Wyoming</td>\n",
              "      <td>Donald Trump</td>\n",
              "      <td>2.0</td>\n",
              "      <td>2020</td>\n",
              "      <td>193559</td>\n",
              "    </tr>\n",
              "    <tr>\n",
              "      <th>4089</th>\n",
              "      <td>Wyoming</td>\n",
              "      <td>Jo Jorgensen</td>\n",
              "      <td>3.0</td>\n",
              "      <td>2020</td>\n",
              "      <td>5768</td>\n",
              "    </tr>\n",
              "    <tr>\n",
              "      <th>4090</th>\n",
              "      <td>Wyoming</td>\n",
              "      <td>Joe Biden</td>\n",
              "      <td>1.0</td>\n",
              "      <td>2020</td>\n",
              "      <td>73491</td>\n",
              "    </tr>\n",
              "  </tbody>\n",
              "</table>\n",
              "<p>351 rows × 5 columns</p>\n",
              "</div>"
            ],
            "text/plain": [
              "        state     candidate  party  year  candidatevotes\n",
              "3740  Alabama     Write-ins    3.0  2020            7312\n",
              "3741  Alabama  Donald Trump    2.0  2020         1441170\n",
              "3742  Alabama  Jo Jorgensen    3.0  2020           25176\n",
              "3743  Alabama     Joe Biden    1.0  2020          849624\n",
              "3744   Alaska     Write-ins    3.0  2020              76\n",
              "...       ...           ...    ...   ...             ...\n",
              "4086  Wyoming     Write-ins    3.0  2020            1739\n",
              "4087  Wyoming  Brock Pierce    3.0  2020            2208\n",
              "4088  Wyoming  Donald Trump    2.0  2020          193559\n",
              "4089  Wyoming  Jo Jorgensen    3.0  2020            5768\n",
              "4090  Wyoming     Joe Biden    1.0  2020           73491\n",
              "\n",
              "[351 rows x 5 columns]"
            ]
          },
          "metadata": {
            "tags": []
          },
          "execution_count": 376
        }
      ]
    },
    {
      "cell_type": "code",
      "metadata": {
        "colab": {
          "base_uri": "https://localhost:8080/",
          "height": 296
        },
        "id": "tkJA4UcgWs3C",
        "outputId": "ff4fde6d-368f-41f9-bdb9-926dcf490f5b"
      },
      "source": [
        "include.groupby('party')['candidatevotes'].sum().plot.bar(ylim=0)\n",
        "plt.show()"
      ],
      "execution_count": 377,
      "outputs": [
        {
          "output_type": "display_data",
          "data": {
            "image/png": "[encoded data removed]",
            "text/plain": [
              "<Figure size 432x288 with 1 Axes>"
            ]
          },
          "metadata": {
            "tags": [],
            "needs_background": "light"
          }
        }
      ]
    },
    {
      "cell_type": "code",
      "metadata": {
        "colab": {
          "base_uri": "https://localhost:8080/"
        },
        "id": "X4tg887EWyde",
        "outputId": "767e4e5c-0518-430a-a2e4-b112012a466f"
      },
      "source": [
        "winner = include.groupby('party')['candidatevotes'].sum()\n",
        "winner"
      ],
      "execution_count": 378,
      "outputs": [
        {
          "output_type": "execute_result",
          "data": {
            "text/plain": [
              "party\n",
              "1.0    80883844\n",
              "2.0    74295934\n",
              "3.0     2879183\n",
              "Name: candidatevotes, dtype: int64"
            ]
          },
          "metadata": {
            "tags": []
          },
          "execution_count": 378
        }
      ]
    },
    {
      "cell_type": "markdown",
      "metadata": {
        "id": "ZvVmcosMLB2q"
      },
      "source": [
        "Create dataset"
      ]
    },
    {
      "cell_type": "code",
      "metadata": {
        "colab": {
          "base_uri": "https://localhost:8080/",
          "height": 428
        },
        "id": "MKGlDNYALGOx",
        "outputId": "1ebe49c2-8719-4a3d-9875-e80d28643fda"
      },
      "source": [
        "#create pivot table\n",
        "dataset = train.pivot_table(index = ['state', 'party'],values = ['candidatevotes'],columns = ['year'],fill_value = 0,aggfunc='sum')\n",
        "dataset.reset_index(inplace = True)\n",
        "dataset"
      ],
      "execution_count": 379,
      "outputs": [
        {
          "output_type": "execute_result",
          "data": {
            "text/html": [
              "<div>\n",
              "<style scoped>\n",
              "    .dataframe tbody tr th:only-of-type {\n",
              "        vertical-align: middle;\n",
              "    }\n",
              "\n",
              "    .dataframe tbody tr th {\n",
              "        vertical-align: top;\n",
              "    }\n",
              "\n",
              "    .dataframe thead tr th {\n",
              "        text-align: left;\n",
              "    }\n",
              "</style>\n",
              "<table border=\"1\" class=\"dataframe\">\n",
              "  <thead>\n",
              "    <tr>\n",
              "      <th></th>\n",
              "      <th>state</th>\n",
              "      <th>party</th>\n",
              "      <th colspan=\"12\" halign=\"left\">candidatevotes</th>\n",
              "    </tr>\n",
              "    <tr>\n",
              "      <th>year</th>\n",
              "      <th></th>\n",
              "      <th></th>\n",
              "      <th>1976</th>\n",
              "      <th>1980</th>\n",
              "      <th>1984</th>\n",
              "      <th>1988</th>\n",
              "      <th>1992</th>\n",
              "      <th>1996</th>\n",
              "      <th>2000</th>\n",
              "      <th>2004</th>\n",
              "      <th>2008</th>\n",
              "      <th>2012</th>\n",
              "      <th>2016</th>\n",
              "      <th>2020</th>\n",
              "    </tr>\n",
              "  </thead>\n",
              "  <tbody>\n",
              "    <tr>\n",
              "      <th>0</th>\n",
              "      <td>Alabama</td>\n",
              "      <td>1.0</td>\n",
              "      <td>659170</td>\n",
              "      <td>636730</td>\n",
              "      <td>551899</td>\n",
              "      <td>549506</td>\n",
              "      <td>690080</td>\n",
              "      <td>662165</td>\n",
              "      <td>692611</td>\n",
              "      <td>693933</td>\n",
              "      <td>813479</td>\n",
              "      <td>795696</td>\n",
              "      <td>729547</td>\n",
              "      <td>849624</td>\n",
              "    </tr>\n",
              "    <tr>\n",
              "      <th>1</th>\n",
              "      <td>Alabama</td>\n",
              "      <td>2.0</td>\n",
              "      <td>504070</td>\n",
              "      <td>654192</td>\n",
              "      <td>872849</td>\n",
              "      <td>815576</td>\n",
              "      <td>804283</td>\n",
              "      <td>769044</td>\n",
              "      <td>941173</td>\n",
              "      <td>1176394</td>\n",
              "      <td>1266546</td>\n",
              "      <td>1255925</td>\n",
              "      <td>1318255</td>\n",
              "      <td>1441170</td>\n",
              "    </tr>\n",
              "    <tr>\n",
              "      <th>2</th>\n",
              "      <td>Alabama</td>\n",
              "      <td>3.0</td>\n",
              "      <td>19610</td>\n",
              "      <td>51007</td>\n",
              "      <td>16965</td>\n",
              "      <td>13394</td>\n",
              "      <td>193697</td>\n",
              "      <td>103140</td>\n",
              "      <td>32488</td>\n",
              "      <td>13088</td>\n",
              "      <td>19794</td>\n",
              "      <td>22717</td>\n",
              "      <td>75570</td>\n",
              "      <td>32488</td>\n",
              "    </tr>\n",
              "    <tr>\n",
              "      <th>3</th>\n",
              "      <td>Alaska</td>\n",
              "      <td>1.0</td>\n",
              "      <td>44058</td>\n",
              "      <td>41842</td>\n",
              "      <td>62007</td>\n",
              "      <td>72584</td>\n",
              "      <td>78294</td>\n",
              "      <td>80380</td>\n",
              "      <td>79004</td>\n",
              "      <td>111025</td>\n",
              "      <td>123594</td>\n",
              "      <td>122640</td>\n",
              "      <td>116454</td>\n",
              "      <td>153129</td>\n",
              "    </tr>\n",
              "    <tr>\n",
              "      <th>4</th>\n",
              "      <td>Alaska</td>\n",
              "      <td>2.0</td>\n",
              "      <td>71555</td>\n",
              "      <td>86112</td>\n",
              "      <td>138377</td>\n",
              "      <td>119251</td>\n",
              "      <td>102000</td>\n",
              "      <td>122746</td>\n",
              "      <td>167398</td>\n",
              "      <td>190889</td>\n",
              "      <td>193841</td>\n",
              "      <td>164676</td>\n",
              "      <td>163387</td>\n",
              "      <td>189484</td>\n",
              "    </tr>\n",
              "    <tr>\n",
              "      <th>...</th>\n",
              "      <td>...</td>\n",
              "      <td>...</td>\n",
              "      <td>...</td>\n",
              "      <td>...</td>\n",
              "      <td>...</td>\n",
              "      <td>...</td>\n",
              "      <td>...</td>\n",
              "      <td>...</td>\n",
              "      <td>...</td>\n",
              "      <td>...</td>\n",
              "      <td>...</td>\n",
              "      <td>...</td>\n",
              "      <td>...</td>\n",
              "      <td>...</td>\n",
              "    </tr>\n",
              "    <tr>\n",
              "      <th>148</th>\n",
              "      <td>Wisconsin</td>\n",
              "      <td>2.0</td>\n",
              "      <td>1004987</td>\n",
              "      <td>1088845</td>\n",
              "      <td>1198584</td>\n",
              "      <td>1047499</td>\n",
              "      <td>930855</td>\n",
              "      <td>845029</td>\n",
              "      <td>1237279</td>\n",
              "      <td>1478120</td>\n",
              "      <td>1262393</td>\n",
              "      <td>1410966</td>\n",
              "      <td>1405284</td>\n",
              "      <td>1610151</td>\n",
              "    </tr>\n",
              "    <tr>\n",
              "      <th>149</th>\n",
              "      <td>Wisconsin</td>\n",
              "      <td>3.0</td>\n",
              "      <td>56117</td>\n",
              "      <td>202792</td>\n",
              "      <td>17365</td>\n",
              "      <td>17315</td>\n",
              "      <td>559143</td>\n",
              "      <td>279169</td>\n",
              "      <td>118341</td>\n",
              "      <td>29383</td>\n",
              "      <td>43813</td>\n",
              "      <td>39483</td>\n",
              "      <td>188330</td>\n",
              "      <td>56567</td>\n",
              "    </tr>\n",
              "    <tr>\n",
              "      <th>150</th>\n",
              "      <td>Wyoming</td>\n",
              "      <td>1.0</td>\n",
              "      <td>62239</td>\n",
              "      <td>49427</td>\n",
              "      <td>53370</td>\n",
              "      <td>67113</td>\n",
              "      <td>68160</td>\n",
              "      <td>77934</td>\n",
              "      <td>60481</td>\n",
              "      <td>70776</td>\n",
              "      <td>82868</td>\n",
              "      <td>69286</td>\n",
              "      <td>55973</td>\n",
              "      <td>73491</td>\n",
              "    </tr>\n",
              "    <tr>\n",
              "      <th>151</th>\n",
              "      <td>Wyoming</td>\n",
              "      <td>2.0</td>\n",
              "      <td>92717</td>\n",
              "      <td>110700</td>\n",
              "      <td>133241</td>\n",
              "      <td>106867</td>\n",
              "      <td>79347</td>\n",
              "      <td>105388</td>\n",
              "      <td>147947</td>\n",
              "      <td>167629</td>\n",
              "      <td>164958</td>\n",
              "      <td>170962</td>\n",
              "      <td>174419</td>\n",
              "      <td>193559</td>\n",
              "    </tr>\n",
              "    <tr>\n",
              "      <th>152</th>\n",
              "      <td>Wyoming</td>\n",
              "      <td>3.0</td>\n",
              "      <td>1387</td>\n",
              "      <td>16586</td>\n",
              "      <td>2357</td>\n",
              "      <td>2571</td>\n",
              "      <td>52377</td>\n",
              "      <td>28249</td>\n",
              "      <td>5298</td>\n",
              "      <td>5456</td>\n",
              "      <td>7078</td>\n",
              "      <td>10453</td>\n",
              "      <td>28396</td>\n",
              "      <td>9715</td>\n",
              "    </tr>\n",
              "  </tbody>\n",
              "</table>\n",
              "<p>153 rows × 14 columns</p>\n",
              "</div>"
            ],
            "text/plain": [
              "          state party candidatevotes  ...                           \n",
              "year                            1976  ...     2012     2016     2020\n",
              "0       Alabama   1.0         659170  ...   795696   729547   849624\n",
              "1       Alabama   2.0         504070  ...  1255925  1318255  1441170\n",
              "2       Alabama   3.0          19610  ...    22717    75570    32488\n",
              "3        Alaska   1.0          44058  ...   122640   116454   153129\n",
              "4        Alaska   2.0          71555  ...   164676   163387   189484\n",
              "..          ...   ...            ...  ...      ...      ...      ...\n",
              "148   Wisconsin   2.0        1004987  ...  1410966  1405284  1610151\n",
              "149   Wisconsin   3.0          56117  ...    39483   188330    56567\n",
              "150     Wyoming   1.0          62239  ...    69286    55973    73491\n",
              "151     Wyoming   2.0          92717  ...   170962   174419   193559\n",
              "152     Wyoming   3.0           1387  ...    10453    28396     9715\n",
              "\n",
              "[153 rows x 14 columns]"
            ]
          },
          "metadata": {
            "tags": []
          },
          "execution_count": 379
        }
      ]
    },
    {
      "cell_type": "code",
      "metadata": {
        "colab": {
          "base_uri": "https://localhost:8080/",
          "height": 464
        },
        "id": "26LZN2WAOEr9",
        "outputId": "918c839d-0f43-4a49-b035-7e5377d38259"
      },
      "source": [
        "state = dataset.state\n",
        "party = dataset.party\n",
        "\n",
        "dataset = dataset.drop(['state', 'party'],axis=1)\n",
        "dataset"
      ],
      "execution_count": 380,
      "outputs": [
        {
          "output_type": "stream",
          "text": [
            "/usr/local/lib/python3.6/dist-packages/pandas/core/generic.py:3889: PerformanceWarning: dropping on a non-lexsorted multi-index without a level parameter may impact performance.\n",
            "  obj = obj._drop_axis(labels, axis, level=level, errors=errors)\n"
          ],
          "name": "stderr"
        },
        {
          "output_type": "execute_result",
          "data": {
            "text/html": [
              "<div>\n",
              "<style scoped>\n",
              "    .dataframe tbody tr th:only-of-type {\n",
              "        vertical-align: middle;\n",
              "    }\n",
              "\n",
              "    .dataframe tbody tr th {\n",
              "        vertical-align: top;\n",
              "    }\n",
              "\n",
              "    .dataframe thead tr th {\n",
              "        text-align: left;\n",
              "    }\n",
              "</style>\n",
              "<table border=\"1\" class=\"dataframe\">\n",
              "  <thead>\n",
              "    <tr>\n",
              "      <th></th>\n",
              "      <th colspan=\"12\" halign=\"left\">candidatevotes</th>\n",
              "    </tr>\n",
              "    <tr>\n",
              "      <th>year</th>\n",
              "      <th>1976</th>\n",
              "      <th>1980</th>\n",
              "      <th>1984</th>\n",
              "      <th>1988</th>\n",
              "      <th>1992</th>\n",
              "      <th>1996</th>\n",
              "      <th>2000</th>\n",
              "      <th>2004</th>\n",
              "      <th>2008</th>\n",
              "      <th>2012</th>\n",
              "      <th>2016</th>\n",
              "      <th>2020</th>\n",
              "    </tr>\n",
              "  </thead>\n",
              "  <tbody>\n",
              "    <tr>\n",
              "      <th>0</th>\n",
              "      <td>659170</td>\n",
              "      <td>636730</td>\n",
              "      <td>551899</td>\n",
              "      <td>549506</td>\n",
              "      <td>690080</td>\n",
              "      <td>662165</td>\n",
              "      <td>692611</td>\n",
              "      <td>693933</td>\n",
              "      <td>813479</td>\n",
              "      <td>795696</td>\n",
              "      <td>729547</td>\n",
              "      <td>849624</td>\n",
              "    </tr>\n",
              "    <tr>\n",
              "      <th>1</th>\n",
              "      <td>504070</td>\n",
              "      <td>654192</td>\n",
              "      <td>872849</td>\n",
              "      <td>815576</td>\n",
              "      <td>804283</td>\n",
              "      <td>769044</td>\n",
              "      <td>941173</td>\n",
              "      <td>1176394</td>\n",
              "      <td>1266546</td>\n",
              "      <td>1255925</td>\n",
              "      <td>1318255</td>\n",
              "      <td>1441170</td>\n",
              "    </tr>\n",
              "    <tr>\n",
              "      <th>2</th>\n",
              "      <td>19610</td>\n",
              "      <td>51007</td>\n",
              "      <td>16965</td>\n",
              "      <td>13394</td>\n",
              "      <td>193697</td>\n",
              "      <td>103140</td>\n",
              "      <td>32488</td>\n",
              "      <td>13088</td>\n",
              "      <td>19794</td>\n",
              "      <td>22717</td>\n",
              "      <td>75570</td>\n",
              "      <td>32488</td>\n",
              "    </tr>\n",
              "    <tr>\n",
              "      <th>3</th>\n",
              "      <td>44058</td>\n",
              "      <td>41842</td>\n",
              "      <td>62007</td>\n",
              "      <td>72584</td>\n",
              "      <td>78294</td>\n",
              "      <td>80380</td>\n",
              "      <td>79004</td>\n",
              "      <td>111025</td>\n",
              "      <td>123594</td>\n",
              "      <td>122640</td>\n",
              "      <td>116454</td>\n",
              "      <td>153129</td>\n",
              "    </tr>\n",
              "    <tr>\n",
              "      <th>4</th>\n",
              "      <td>71555</td>\n",
              "      <td>86112</td>\n",
              "      <td>138377</td>\n",
              "      <td>119251</td>\n",
              "      <td>102000</td>\n",
              "      <td>122746</td>\n",
              "      <td>167398</td>\n",
              "      <td>190889</td>\n",
              "      <td>193841</td>\n",
              "      <td>164676</td>\n",
              "      <td>163387</td>\n",
              "      <td>189484</td>\n",
              "    </tr>\n",
              "    <tr>\n",
              "      <th>...</th>\n",
              "      <td>...</td>\n",
              "      <td>...</td>\n",
              "      <td>...</td>\n",
              "      <td>...</td>\n",
              "      <td>...</td>\n",
              "      <td>...</td>\n",
              "      <td>...</td>\n",
              "      <td>...</td>\n",
              "      <td>...</td>\n",
              "      <td>...</td>\n",
              "      <td>...</td>\n",
              "      <td>...</td>\n",
              "    </tr>\n",
              "    <tr>\n",
              "      <th>148</th>\n",
              "      <td>1004987</td>\n",
              "      <td>1088845</td>\n",
              "      <td>1198584</td>\n",
              "      <td>1047499</td>\n",
              "      <td>930855</td>\n",
              "      <td>845029</td>\n",
              "      <td>1237279</td>\n",
              "      <td>1478120</td>\n",
              "      <td>1262393</td>\n",
              "      <td>1410966</td>\n",
              "      <td>1405284</td>\n",
              "      <td>1610151</td>\n",
              "    </tr>\n",
              "    <tr>\n",
              "      <th>149</th>\n",
              "      <td>56117</td>\n",
              "      <td>202792</td>\n",
              "      <td>17365</td>\n",
              "      <td>17315</td>\n",
              "      <td>559143</td>\n",
              "      <td>279169</td>\n",
              "      <td>118341</td>\n",
              "      <td>29383</td>\n",
              "      <td>43813</td>\n",
              "      <td>39483</td>\n",
              "      <td>188330</td>\n",
              "      <td>56567</td>\n",
              "    </tr>\n",
              "    <tr>\n",
              "      <th>150</th>\n",
              "      <td>62239</td>\n",
              "      <td>49427</td>\n",
              "      <td>53370</td>\n",
              "      <td>67113</td>\n",
              "      <td>68160</td>\n",
              "      <td>77934</td>\n",
              "      <td>60481</td>\n",
              "      <td>70776</td>\n",
              "      <td>82868</td>\n",
              "      <td>69286</td>\n",
              "      <td>55973</td>\n",
              "      <td>73491</td>\n",
              "    </tr>\n",
              "    <tr>\n",
              "      <th>151</th>\n",
              "      <td>92717</td>\n",
              "      <td>110700</td>\n",
              "      <td>133241</td>\n",
              "      <td>106867</td>\n",
              "      <td>79347</td>\n",
              "      <td>105388</td>\n",
              "      <td>147947</td>\n",
              "      <td>167629</td>\n",
              "      <td>164958</td>\n",
              "      <td>170962</td>\n",
              "      <td>174419</td>\n",
              "      <td>193559</td>\n",
              "    </tr>\n",
              "    <tr>\n",
              "      <th>152</th>\n",
              "      <td>1387</td>\n",
              "      <td>16586</td>\n",
              "      <td>2357</td>\n",
              "      <td>2571</td>\n",
              "      <td>52377</td>\n",
              "      <td>28249</td>\n",
              "      <td>5298</td>\n",
              "      <td>5456</td>\n",
              "      <td>7078</td>\n",
              "      <td>10453</td>\n",
              "      <td>28396</td>\n",
              "      <td>9715</td>\n",
              "    </tr>\n",
              "  </tbody>\n",
              "</table>\n",
              "<p>153 rows × 12 columns</p>\n",
              "</div>"
            ],
            "text/plain": [
              "     candidatevotes                    ...                           \n",
              "year           1976     1980     1984  ...     2012     2016     2020\n",
              "0            659170   636730   551899  ...   795696   729547   849624\n",
              "1            504070   654192   872849  ...  1255925  1318255  1441170\n",
              "2             19610    51007    16965  ...    22717    75570    32488\n",
              "3             44058    41842    62007  ...   122640   116454   153129\n",
              "4             71555    86112   138377  ...   164676   163387   189484\n",
              "..              ...      ...      ...  ...      ...      ...      ...\n",
              "148         1004987  1088845  1198584  ...  1410966  1405284  1610151\n",
              "149           56117   202792    17365  ...    39483   188330    56567\n",
              "150           62239    49427    53370  ...    69286    55973    73491\n",
              "151           92717   110700   133241  ...   170962   174419   193559\n",
              "152            1387    16586     2357  ...    10453    28396     9715\n",
              "\n",
              "[153 rows x 12 columns]"
            ]
          },
          "metadata": {
            "tags": []
          },
          "execution_count": 380
        }
      ]
    },
    {
      "cell_type": "markdown",
      "metadata": {
        "id": "BSSBADHINjvy"
      },
      "source": [
        "Define X, y and X_test"
      ]
    },
    {
      "cell_type": "code",
      "metadata": {
        "colab": {
          "base_uri": "https://localhost:8080/"
        },
        "id": "PRO4bUSiNsp8",
        "outputId": "afaf1f4d-3dda-45af-b25f-92a08db1511f"
      },
      "source": [
        "#split the dataset in two\n",
        "# the last column is our label\n",
        "y_train = dataset.iloc[:,-1:]\n",
        "#drop last column of data\n",
        "X_train = dataset.iloc[:, :-1]\n",
        "#drop first colum of data\n",
        "X_test = dataset.iloc[:,1:]\n",
        "# lets have a look on the shape \n",
        "print(X_train.shape,y_train.shape,X_test.shape)"
      ],
      "execution_count": 381,
      "outputs": [
        {
          "output_type": "stream",
          "text": [
            "(153, 11) (153, 1) (153, 11)\n"
          ],
          "name": "stdout"
        }
      ]
    },
    {
      "cell_type": "markdown",
      "metadata": {
        "id": "s1KVxnHuN7M-"
      },
      "source": [
        "Define the model"
      ]
    },
    {
      "cell_type": "code",
      "metadata": {
        "colab": {
          "base_uri": "https://localhost:8080/"
        },
        "id": "AenMwTmZN-Pi",
        "outputId": "fe96d35f-4e5f-4ff0-f39a-a5eef923e43b"
      },
      "source": [
        "from sklearn.neural_network import MLPRegressor\n",
        "\n",
        "model = MLPRegressor(hidden_layer_sizes=(100,),random_state=1, max_iter=1000, verbose=True).fit(X_train, y_train)\n",
        "\n",
        "y_pred = model.predict(X_train)\n",
        "y_pred"
      ],
      "execution_count": 382,
      "outputs": [
        {
          "output_type": "stream",
          "text": [
            "Iteration 1, loss = 732554897716.53649902\n",
            "Iteration 2, loss = 629962501552.09191895\n",
            "Iteration 3, loss = 536561084682.15142822\n",
            "Iteration 4, loss = 452906520845.46301270\n",
            "Iteration 5, loss = 378984279489.44226074\n",
            "Iteration 6, loss = 314547162602.84484863\n",
            "Iteration 7, loss = 259220821947.49591064\n",
            "Iteration 8, loss = 213006512995.03521729\n",
            "Iteration 9, loss = 175193087992.60177612\n",
            "Iteration 10, loss = 145455307354.39456177\n",
            "Iteration 11, loss = 123087153025.61647034\n",
            "Iteration 12, loss = 107210921208.70860291\n",
            "Iteration 13, loss = 97031784334.77775574\n",
            "Iteration 14, loss = 91484734987.31417847\n",
            "Iteration 15, loss = 89510316330.84547424\n",
            "Iteration 16, loss = 90167734012.25982666\n",
            "Iteration 17, loss = 92597311686.94276428\n",
            "Iteration 18, loss = 95892225136.72489929\n",
            "Iteration 19, loss = 99333911330.74238586\n",
            "Iteration 20, loss = 102221970235.54022217\n",
            "Iteration 21, loss = 104089190044.76809692\n",
            "Iteration 22, loss = 104781537928.95991516\n",
            "Iteration 23, loss = 104268691956.99844360\n",
            "Iteration 24, loss = 102416560122.52253723\n",
            "Iteration 25, loss = 99506184288.42282104\n",
            "Iteration 26, loss = 95627945660.92857361\n",
            "Training loss did not improve more than tol=0.000100 for 10 consecutive epochs. Stopping.\n"
          ],
          "name": "stdout"
        },
        {
          "output_type": "stream",
          "text": [
            "/usr/local/lib/python3.6/dist-packages/sklearn/neural_network/_multilayer_perceptron.py:1342: DataConversionWarning: A column-vector y was passed when a 1d array was expected. Please change the shape of y to (n_samples, ), for example using ravel().\n",
            "  y = column_or_1d(y, warn=True)\n"
          ],
          "name": "stderr"
        },
        {
          "output_type": "execute_result",
          "data": {
            "text/plain": [
              "array([1135985.72104289, 1654636.59435167,   69135.52057985,\n",
              "        142988.60119578,  236359.18635288,   37919.48935584,\n",
              "       1098394.61109857, 1435922.54682969,  134944.45799251,\n",
              "        674359.03051883,  865955.27387469,   46627.33777405,\n",
              "       9784907.36989884, 8038508.6364627 ,  916870.4451532 ,\n",
              "       1360315.03843725, 1506266.74434292,  178829.92995807,\n",
              "       1258855.68347263, 1166745.71609277,  115911.08396892,\n",
              "        274948.41442141,  248551.82084119,   18442.35161038,\n",
              "        342672.61583443,   35484.8580083 ,   13816.59331279,\n",
              "       4550366.57220369, 5299096.20166858,  271576.66846098,\n",
              "       2019146.84628386, 2327985.15312974,   96773.88517385,\n",
              "        350732.9462653 ,  247461.2664604 ,   29683.50278691,\n",
              "        261836.60879452,  548133.36614285,   57785.13578776,\n",
              "       4378000.26146572, 3757054.90534973,  308978.39983898,\n",
              "       1634825.28995762, 2261736.88438393,  134570.44652881,\n",
              "       1110394.58935209, 1148219.14694393,  108655.25639288,\n",
              "        679703.59015606, 1060881.42383376,  103262.98565446,\n",
              "       1072994.03249938, 1488208.79125139,   68542.28437941,\n",
              "       1257352.01011576, 1662259.29681557,   75934.82894582,\n",
              "        507195.79176475,  497987.18667542,   66817.20731265,\n",
              "       1937027.02214278, 1464983.14320007,  122727.22643029,\n",
              "       2634574.56509411, 1833818.94098751,  301038.41875833,\n",
              "       3430144.17699304, 3499413.7002544 ,  270695.10915984,\n",
              "       1400306.30457661, 1845163.50317514,  519263.28175539,\n",
              "        730245.36132338, 1000225.60676603,   28399.1711472 ,\n",
              "       1805238.46744296, 2130972.93501971,  130615.20673944,\n",
              "        278345.54976834,  385358.71080896,   39879.72828184,\n",
              "        406922.19255873,  752172.72359069,   59002.64926783,\n",
              "        441447.07346636,  488576.04969135,   51568.62294745,\n",
              "        395115.07483454,  473128.33264508,   46131.42894419,\n",
              "       2803515.48731957, 2718146.5349938 ,  175534.58916421,\n",
              "        499190.37528494,  503061.66118877,   52844.44557624,\n",
              "       6201086.69770243, 4430353.89546887, 1164771.93874571,\n",
              "       2293051.71534084, 2685038.94865538,  114385.36986053,\n",
              "        177879.93161086,  311656.62828817,   29456.38619198,\n",
              "       3765042.55400133, 4269697.97740223,  316715.73828125,\n",
              "        741869.41733322, 1380730.01058114,   78835.45911175,\n",
              "       1250643.55337105, 1145287.30041134,  157227.53862466,\n",
              "       4313839.25698138, 4233364.13604282,  272360.54722749,\n",
              "        397180.50534883,  284392.9892059 ,   39243.65604095,\n",
              "        972120.02677196, 1291842.63806062,   58773.73473776,\n",
              "        216370.02006677,  331509.1879372 ,   23278.14163935,\n",
              "       1464943.08501653, 1906037.09488859,   78297.87457982,\n",
              "       4502265.392225  , 6082092.51364034,  381381.70690766,\n",
              "        367060.44075014,  838743.57749583,  138577.8925256 ,\n",
              "        236663.49466514,  181255.66499129,   32971.84858088,\n",
              "       2129201.32385283, 2413509.11340327,  157987.29187489,\n",
              "       2014947.45301281, 1791972.2840154 ,  247602.80933326,\n",
              "        497233.52014834,  638622.38355976,   28768.59587954,\n",
              "       2089393.32180821, 2068510.26592974,  186346.30334976,\n",
              "        103474.88778921,  230560.53833759,   19544.17783403])"
            ]
          },
          "metadata": {
            "tags": []
          },
          "execution_count": 382
        }
      ]
    },
    {
      "cell_type": "code",
      "metadata": {
        "id": "gSBpJc5FOHaV",
        "colab": {
          "base_uri": "https://localhost:8080/"
        },
        "outputId": "f9d3a99d-8283-4f62-9a11-26e5ca6291c6"
      },
      "source": [
        "print(model.score(X_train, y_train))"
      ],
      "execution_count": 383,
      "outputs": [
        {
          "output_type": "stream",
          "text": [
            "0.9209081388317557\n"
          ],
          "name": "stdout"
        }
      ]
    },
    {
      "cell_type": "markdown",
      "metadata": {
        "id": "LPpFrSRVPKAj"
      },
      "source": [
        "Make predictions"
      ]
    },
    {
      "cell_type": "code",
      "metadata": {
        "colab": {
          "base_uri": "https://localhost:8080/"
        },
        "id": "aqq5k7KFPNBH",
        "outputId": "efaf436e-723a-4872-fb4b-2519c61f74a3"
      },
      "source": [
        "pred = model.predict(X_test)\n",
        "pred[pred < 0] = 0\n",
        "pred = pred.astype(int)\n",
        "pred"
      ],
      "execution_count": 384,
      "outputs": [
        {
          "output_type": "execute_result",
          "data": {
            "text/plain": [
              "array([ 1176666,  1754538,    58147,   164764,   246783,    26900,\n",
              "        1366708,  1631605,    94969,   676408,   904533,    51848,\n",
              "       11131903,  8323965,   705198,  1618708,  1580207,   131429,\n",
              "        1370774,  1136520,    81317,   306421,   249616,    15117,\n",
              "         360386,    35947,    11795,  5171798,  5809259,   222831,\n",
              "        2318546,  2586736,    94155,   413253,   253717,    24551,\n",
              "         312710,   594411,    48817,  4825480,  3749830,   238167,\n",
              "        1731198,  2277192,   117587,  1168766,  1123388,    74875,\n",
              "         738876,  1073590,    66353,  1111549,  1542860,    64958,\n",
              "        1329011,  1686154,    70424,   552435,   489297,    54430,\n",
              "        2129265,  1478943,   102237,  2870601,  1816316,   200047,\n",
              "        3683486,  3466938,   201474,  1702021,  1872628,   334370,\n",
              "         763293,  1032386,    28136,  1875590,  2151098,   110634,\n",
              "         315545,   395266,    32206,   463586,   754568,    43337,\n",
              "         546615,   561382,    44123,   454879,   487423,    32167,\n",
              "        3063497,  2714911,   146542,   566876,   518076,    45451,\n",
              "        6334643,  4337504,   876866,  2614786,  2917025,   115693,\n",
              "         194325,   301766,    21866,  3909177,  4279990,   237206,\n",
              "         785581,  1367203,    61548,  1408367,  1161775,   131869,\n",
              "        4502306,  4256701,   217584,   423626,   278451,    27153,\n",
              "        1100493,  1418316,    53437,   237119,   331024,    19956,\n",
              "        1523936,  2071300,    77379,  5219334,  6534580,   271512,\n",
              "         462614,   923929,   103289,   271918,   179780,    25573,\n",
              "        2419573,  2533296,   133362,  2341822,  1873406,   199123,\n",
              "         490023,   624699,    30476,  2215958,  2050769,   135253,\n",
              "         115023,   233739,    18859])"
            ]
          },
          "metadata": {
            "tags": []
          },
          "execution_count": 384
        }
      ]
    },
    {
      "cell_type": "code",
      "metadata": {
        "id": "juo6v4UuPnb9",
        "colab": {
          "base_uri": "https://localhost:8080/",
          "height": 399
        },
        "outputId": "bf087c3a-6a93-4d5d-d616-13077d0a523b"
      },
      "source": [
        "# creating dataframe with required columns \n",
        "prediction = pd.DataFrame({'state':state,'party':party, 'prediction_2024': pred})\n",
        "prediction"
      ],
      "execution_count": 385,
      "outputs": [
        {
          "output_type": "execute_result",
          "data": {
            "text/html": [
              "<div>\n",
              "<style scoped>\n",
              "    .dataframe tbody tr th:only-of-type {\n",
              "        vertical-align: middle;\n",
              "    }\n",
              "\n",
              "    .dataframe tbody tr th {\n",
              "        vertical-align: top;\n",
              "    }\n",
              "\n",
              "    .dataframe thead th {\n",
              "        text-align: right;\n",
              "    }\n",
              "</style>\n",
              "<table border=\"1\" class=\"dataframe\">\n",
              "  <thead>\n",
              "    <tr style=\"text-align: right;\">\n",
              "      <th></th>\n",
              "      <th>state</th>\n",
              "      <th>party</th>\n",
              "      <th>prediction_2024</th>\n",
              "    </tr>\n",
              "  </thead>\n",
              "  <tbody>\n",
              "    <tr>\n",
              "      <th>0</th>\n",
              "      <td>Alabama</td>\n",
              "      <td>1.0</td>\n",
              "      <td>1176666</td>\n",
              "    </tr>\n",
              "    <tr>\n",
              "      <th>1</th>\n",
              "      <td>Alabama</td>\n",
              "      <td>2.0</td>\n",
              "      <td>1754538</td>\n",
              "    </tr>\n",
              "    <tr>\n",
              "      <th>2</th>\n",
              "      <td>Alabama</td>\n",
              "      <td>3.0</td>\n",
              "      <td>58147</td>\n",
              "    </tr>\n",
              "    <tr>\n",
              "      <th>3</th>\n",
              "      <td>Alaska</td>\n",
              "      <td>1.0</td>\n",
              "      <td>164764</td>\n",
              "    </tr>\n",
              "    <tr>\n",
              "      <th>4</th>\n",
              "      <td>Alaska</td>\n",
              "      <td>2.0</td>\n",
              "      <td>246783</td>\n",
              "    </tr>\n",
              "    <tr>\n",
              "      <th>...</th>\n",
              "      <td>...</td>\n",
              "      <td>...</td>\n",
              "      <td>...</td>\n",
              "    </tr>\n",
              "    <tr>\n",
              "      <th>148</th>\n",
              "      <td>Wisconsin</td>\n",
              "      <td>2.0</td>\n",
              "      <td>2050769</td>\n",
              "    </tr>\n",
              "    <tr>\n",
              "      <th>149</th>\n",
              "      <td>Wisconsin</td>\n",
              "      <td>3.0</td>\n",
              "      <td>135253</td>\n",
              "    </tr>\n",
              "    <tr>\n",
              "      <th>150</th>\n",
              "      <td>Wyoming</td>\n",
              "      <td>1.0</td>\n",
              "      <td>115023</td>\n",
              "    </tr>\n",
              "    <tr>\n",
              "      <th>151</th>\n",
              "      <td>Wyoming</td>\n",
              "      <td>2.0</td>\n",
              "      <td>233739</td>\n",
              "    </tr>\n",
              "    <tr>\n",
              "      <th>152</th>\n",
              "      <td>Wyoming</td>\n",
              "      <td>3.0</td>\n",
              "      <td>18859</td>\n",
              "    </tr>\n",
              "  </tbody>\n",
              "</table>\n",
              "<p>153 rows × 3 columns</p>\n",
              "</div>"
            ],
            "text/plain": [
              "         state  party  prediction_2024\n",
              "0      Alabama    1.0          1176666\n",
              "1      Alabama    2.0          1754538\n",
              "2      Alabama    3.0            58147\n",
              "3       Alaska    1.0           164764\n",
              "4       Alaska    2.0           246783\n",
              "..         ...    ...              ...\n",
              "148  Wisconsin    2.0          2050769\n",
              "149  Wisconsin    3.0           135253\n",
              "150    Wyoming    1.0           115023\n",
              "151    Wyoming    2.0           233739\n",
              "152    Wyoming    3.0            18859\n",
              "\n",
              "[153 rows x 3 columns]"
            ]
          },
          "metadata": {
            "tags": []
          },
          "execution_count": 385
        }
      ]
    },
    {
      "cell_type": "markdown",
      "metadata": {
        "id": "7TBywGStUy5p"
      },
      "source": [
        "Graphical representation\n",
        "Democrat 1, Republican 2, Other 3"
      ]
    },
    {
      "cell_type": "code",
      "metadata": {
        "colab": {
          "base_uri": "https://localhost:8080/",
          "height": 296
        },
        "id": "kHi4qUXJU3HQ",
        "outputId": "a3bfe4f3-8feb-42af-b645-8e6e64a637a7"
      },
      "source": [
        "prediction.groupby('party')['prediction_2024'].sum().plot.bar(ylim=0)\n",
        "plt.show()"
      ],
      "execution_count": 386,
      "outputs": [
        {
          "output_type": "display_data",
          "data": {
            "image/png": "[encoded data removed]",
            "text/plain": [
              "<Figure size 432x288 with 1 Axes>"
            ]
          },
          "metadata": {
            "tags": [],
            "needs_background": "light"
          }
        }
      ]
    },
    {
      "cell_type": "code",
      "metadata": {
        "colab": {
          "base_uri": "https://localhost:8080/"
        },
        "id": "0uMWZf_SVgxR",
        "outputId": "8e4871fa-21ba-4715-846b-342956df1265"
      },
      "source": [
        "predict_winner = prediction.groupby('party')['prediction_2024'].sum()\n",
        "predict_winner"
      ],
      "execution_count": 387,
      "outputs": [
        {
          "output_type": "execute_result",
          "data": {
            "text/plain": [
              "party\n",
              "1.0    92852238\n",
              "2.0    91975336\n",
              "3.0     6332596\n",
              "Name: prediction_2024, dtype: int64"
            ]
          },
          "metadata": {
            "tags": []
          },
          "execution_count": 387
        }
      ]
    }
  ]
}